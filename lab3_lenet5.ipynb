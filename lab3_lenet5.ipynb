{
  "nbformat": 4,
  "nbformat_minor": 0,
  "metadata": {
    "colab": {
      "name": "lab3_lenet5.ipynb",
      "provenance": [],
      "collapsed_sections": [],
      "include_colab_link": true
    },
    "kernelspec": {
      "name": "python3",
      "display_name": "Python 3"
    },
    "accelerator": "GPU"
  },
  "cells": [
    {
      "cell_type": "markdown",
      "metadata": {
        "id": "view-in-github",
        "colab_type": "text"
      },
      "source": [
        "<a href=\"https://colab.research.google.com/github/marc-queiroz/ml_lab3/blob/master/lab3_lenet5.ipynb\" target=\"_parent\"><img src=\"https://colab.research.google.com/assets/colab-badge.svg\" alt=\"Open In Colab\"/></a>"
      ]
    },
    {
      "cell_type": "markdown",
      "metadata": {
        "id": "DkY044wF9IJ9",
        "colab_type": "text"
      },
      "source": [
        "# LABORATÓRIO 3 - LeNet-5"
      ]
    },
    {
      "cell_type": "markdown",
      "metadata": {
        "id": "ZEO7aBaNbC9o",
        "colab_type": "text"
      },
      "source": [
        "## HABILITANDO A GPU\n",
        "\n",
        "Neste ponto se importa o tensorflow e executa-se uma verificação para analisar se a máquina que executará os scripts utiliza o processamento em GPU."
      ]
    },
    {
      "cell_type": "code",
      "metadata": {
        "id": "fmH7u-DNRbV7",
        "colab_type": "code",
        "colab": {
          "base_uri": "https://localhost:8080/",
          "height": 374
        },
        "outputId": "cd7d7ee0-eb03-4d00-edef-38d0e5765fca"
      },
      "source": [
        "import tensorflow as tf\n",
        "device_name = tf.test.gpu_device_name()\n",
        "if device_name != '/device:GPU:0':\n",
        "  raise SystemError('GPU device not found')\n",
        "if (device_name):\n",
        "  print('GPU device located: {}'.format(device_name))\n",
        "  !nvidia-smi"
      ],
      "execution_count": 1,
      "outputs": [
        {
          "output_type": "stream",
          "text": [
            "GPU device located: /device:GPU:0\n",
            "Mon Sep  7 05:34:07 2020       \n",
            "+-----------------------------------------------------------------------------+\n",
            "| NVIDIA-SMI 450.66       Driver Version: 418.67       CUDA Version: 10.1     |\n",
            "|-------------------------------+----------------------+----------------------+\n",
            "| GPU  Name        Persistence-M| Bus-Id        Disp.A | Volatile Uncorr. ECC |\n",
            "| Fan  Temp  Perf  Pwr:Usage/Cap|         Memory-Usage | GPU-Util  Compute M. |\n",
            "|                               |                      |               MIG M. |\n",
            "|===============================+======================+======================|\n",
            "|   0  Tesla P100-PCIE...  Off  | 00000000:00:04.0 Off |                    0 |\n",
            "| N/A   42C    P0    33W / 250W |    359MiB / 16280MiB |      1%      Default |\n",
            "|                               |                      |                 ERR! |\n",
            "+-------------------------------+----------------------+----------------------+\n",
            "                                                                               \n",
            "+-----------------------------------------------------------------------------+\n",
            "| Processes:                                                                  |\n",
            "|  GPU   GI   CI        PID   Type   Process name                  GPU Memory |\n",
            "|        ID   ID                                                   Usage      |\n",
            "|=============================================================================|\n",
            "|  No running processes found                                                 |\n",
            "+-----------------------------------------------------------------------------+\n"
          ],
          "name": "stdout"
        }
      ]
    },
    {
      "cell_type": "markdown",
      "metadata": {
        "id": "y3A8EHmvmH5k",
        "colab_type": "text"
      },
      "source": [
        "Caso a saída seja: `Found...` então, pode-se executar a próxia linha, que habilita a execução."
      ]
    },
    {
      "cell_type": "markdown",
      "metadata": {
        "id": "DaxQD5tjJpXz",
        "colab_type": "text"
      },
      "source": [
        "## IMPORTANDO OS DADOS DO GITHUB"
      ]
    },
    {
      "cell_type": "markdown",
      "metadata": {
        "id": "MFCz7vSKmTal",
        "colab_type": "text"
      },
      "source": [
        "Neste ponto, utiliza-se o repositório do GitHub listado abaixo para obter o .zip com as informações a serem utilizadas no experimento.\n",
        "\n",
        "Os comandos na sequência removem as pastas desnecessárias deixando apenas os arquivos importantes para a execução dos próximos passos."
      ]
    },
    {
      "cell_type": "code",
      "metadata": {
        "id": "Q-ET-26UQgFm",
        "colab_type": "code",
        "colab": {
          "base_uri": "https://localhost:8080/",
          "height": 153
        },
        "outputId": "e2b6c91f-6103-4f65-945e-53e14fbda870"
      },
      "source": [
        "!git clone https://github.com/marc-queiroz/ml_lab3 ml_lab3"
      ],
      "execution_count": 2,
      "outputs": [
        {
          "output_type": "stream",
          "text": [
            "Cloning into 'ml_lab3'...\n",
            "remote: Enumerating objects: 6, done.\u001b[K\n",
            "remote: Counting objects: 100% (6/6), done.\u001b[K\n",
            "remote: Compressing objects: 100% (4/4), done.\u001b[K\n",
            "remote: Total 44284 (delta 2), reused 5 (delta 2), pack-reused 44278\u001b[K\n",
            "Receiving objects: 100% (44284/44284), 364.85 MiB | 27.68 MiB/s, done.\n",
            "Resolving deltas: 100% (26/26), done.\n",
            "Checking out files: 100% (55132/55132), done.\n"
          ],
          "name": "stdout"
        }
      ]
    },
    {
      "cell_type": "markdown",
      "metadata": {
        "id": "k4ZkxWuN_EXy",
        "colab_type": "text"
      },
      "source": [
        "## REALIZANDO OS IMPORTS\n",
        "\n",
        "Aqui reliza-se as importações dos pacotes que serão utilizados nos experimentos."
      ]
    },
    {
      "cell_type": "code",
      "metadata": {
        "id": "AyRUnMu-buXU",
        "colab_type": "code",
        "colab": {}
      },
      "source": [
        "import os\n",
        "import random as rn\n",
        "import numpy as np\n",
        "from datetime import datetime\n",
        "import time\n",
        "\n",
        "from sklearn.metrics import confusion_matrix\n",
        "from sklearn.datasets import load_svmlight_file\n",
        "from sklearn.metrics import f1_score as sklearn_f1_score\n",
        "from sklearn.metrics import accuracy_score\n",
        "from sklearn import svm\n",
        "from sklearn.metrics import plot_confusion_matrix\n",
        "import numpy as np\n",
        "from PIL import Image\n",
        "import pandas as pd\n",
        "\n",
        "import numpy as np\n",
        "import cv2\n",
        "from matplotlib import pyplot as plt\n",
        "\n",
        "from keras.preprocessing import image\n",
        "from keras.preprocessing.image import load_img\n",
        "from keras.preprocessing.image import img_to_array\n",
        "from keras.preprocessing.image import ImageDataGenerator\n",
        "\n",
        "SAVED_MODEL_NAME = 'model.h5'"
      ],
      "execution_count": 11,
      "outputs": []
    },
    {
      "cell_type": "markdown",
      "metadata": {
        "id": "TZK6raP3_k1b",
        "colab_type": "text"
      },
      "source": [
        "## DEFININDO AS ENTRADAS\n",
        "\n",
        "Então, é necessário definir os arquivos de entrada obtidos através do GitHub."
      ]
    },
    {
      "cell_type": "code",
      "metadata": {
        "id": "ykl0sbD8_r54",
        "colab_type": "code",
        "colab": {}
      },
      "source": [
        "TRAIN_FILE = \"./ml_lab3/train.txt\"\n",
        "TEST_FILE = \"./ml_lab3/test.txt\""
      ],
      "execution_count": 4,
      "outputs": []
    },
    {
      "cell_type": "markdown",
      "metadata": {
        "id": "04wdIy9n_661",
        "colab_type": "text"
      },
      "source": [
        "## DEFININDO AS FUNÇÕES AUXILIARES\n",
        "\n",
        "Neste ponto são definidas as funções auxiliares para a execução dos experimentos.**negrito**"
      ]
    },
    {
      "cell_type": "code",
      "metadata": {
        "id": "_vui_BFAAEju",
        "colab_type": "code",
        "colab": {
          "base_uri": "https://localhost:8080/",
          "height": 34
        },
        "outputId": "9abde15d-75af-4554-bad7-f091c22d22b2"
      },
      "source": [
        "def resize_data(data, size, convert):\n",
        "\tif convert:\n",
        "\t\tdata_upscaled = np.zeros((data.shape[0], size[0], size[1], 3))\n",
        "\telse:\n",
        "\t\tdata_upscaled = np.zeros((data.shape[0], size[0], size[1]))\n",
        "\tfor i, img in enumerate(data):\n",
        "\t\tlarge_img = cv2.resize(img, dsize=(size[1], size[0]), interpolation=cv2.INTER_CUBIC)\n",
        "\t\tdata_upscaled[i] = large_img\n",
        "\treturn data_upscaled\n",
        "\n",
        "def load_images(image_paths, convert=False):\n",
        "\tx = []\n",
        "\ty = []\n",
        "\tfor image_path in image_paths:\t\t\n",
        "\t\tpath, label = image_path.split(' ')\t  \n",
        "\t\tpath= './ml_lab3/' + path\n",
        "\t\tif convert:\n",
        "\t\t\timage_pil = Image.open(path).convert('RGB') \n",
        "\t\telse:\n",
        "\t\t\timage_pil = Image.open(path).convert('L')\n",
        "\t\timg = np.array(image_pil, dtype=np.uint8)\n",
        "\t\tx.append(img)\n",
        "\t\ty.append([int(label)])\n",
        "\tx = np.array(x)\n",
        "\ty = np.array(y)\n",
        "\tif np.min(y) != 0: \n",
        "\t\ty = y-1\n",
        "\treturn x, y\n",
        "\n",
        "def load_dataset(train_file, test_file, resize, convert=False, size=(224,224)):\n",
        "\tarq = open(train_file, 'r')\n",
        "\ttexto = arq.read()\n",
        "\ttrain_paths = texto.split('\\n')\n",
        "\tprint ('Size:', size)\n",
        "\ttrain_paths.remove('')\n",
        "\ttrain_paths.sort()\n",
        "\tprint (\"Loading training set...\")\n",
        "\tx_train, y_train = load_images(train_paths, convert)\n",
        "\tarq = open(test_file, 'r')\n",
        "\ttexto = arq.read()\n",
        "\ttest_paths = texto.split('\\n')\n",
        "\ttest_paths.remove('')\n",
        "\ttest_paths.sort()\n",
        "\tprint (\"Loading testing set...\")\n",
        "\tx_test, y_test = load_images(test_paths, convert)\n",
        "\tif resize:\n",
        "\t\tprint (\"Resizing images...\")\n",
        "\t\tx_train = resize_data(x_train, size, convert)\n",
        "\t\tx_test = resize_data(x_test, size, convert)\n",
        "\tif not convert:\n",
        "\t\tx_train = x_train.reshape(x_train.shape[0], size[0], size[1], 1)\n",
        "\t\tx_test = x_test.reshape(x_test.shape[0], size[0], size[1], 1)\n",
        "\tprint (np.shape(x_train))\n",
        "\treturn (x_train, y_train), (x_test, y_test)\n",
        " \n",
        "def generate_labels(x_test, y_test):\n",
        "  labels = []\n",
        "  for i in range(len(x_test)):\n",
        "    labels.append(y_test[i][0])\n",
        "  return labels\n",
        "\n",
        "def normalize_images(x):\n",
        "  x = x.astype('float32')\n",
        "  x /= 255\n",
        "  return x\n",
        "\n",
        "def convert_vector(x, num_classes):\n",
        "  return keras.utils.to_categorical(x, num_classes)\n",
        "\n",
        "def fit_model(model, x_train, y_train, x_test, y_test, epochs, batch_size=128, verbose=1, steps_per_epoch=None):\n",
        "  return model.fit(x=x_train, y=y_train, epochs=epochs, batch_size=batch_size, validation_data=(x_test, y_test), verbose=verbose, steps_per_epoch=steps_per_epoch)\n",
        "\n",
        "def get_confusion_matrix(model, x_test, labels):\n",
        "\tpred = []\n",
        "\ty_pred = np.argmax(model.predict(x_test), axis=1)\t\n",
        "\tfor i in range(len(x_test)):\n",
        "\t  pred.append(y_pred[i])\n",
        "\treturn confusion_matrix(labels, pred)\n",
        "\n",
        "def plot_graphs(history, filename=None):\n",
        "\tacc = history.history['accuracy']\n",
        "\tval_acc = history.history['val_accuracy']\n",
        "\tloss = history.history['loss']\n",
        "\tval_loss = history.history['val_loss']\n",
        "\tepochs = range(len(acc))\n",
        "\tfig, (ax1, ax2) = plt.subplots(1, 2, figsize=(10,5))\n",
        "\tax1.plot(epochs, acc, 'b', label='Acurácia do treinamento')\n",
        "\tax1.plot(epochs, val_acc, 'r', label='Acurácia da validação')\n",
        "\tax1.set_title('Acurácia do treinamento e validação')\n",
        "\tax1.legend()\n",
        "\tax2.plot(epochs, loss, 'b', label='Perda do treinamento')\n",
        "\tax2.plot(epochs, val_loss, 'r', label='Perda da validação')\n",
        "\tax2.set_title('Perda do treinamento e validação')\n",
        "\tax2.legend()\n",
        "\tif (filename):\n",
        "\t\tfig.savefig(filename)\n",
        "\t\tfrom google.colab import files\n",
        "\t\tfiles.download(filename)\n",
        "\tplt.show()\n",
        "\n",
        "def extract_features(model, input_file, output_file, img_rows, img_cols, dir_dataset):\n",
        "\tcount = 0\n",
        "\tfile_input = open (input_file, 'r')\n",
        "\tinput = file_input.readlines()\n",
        "\tfile_input.close()\n",
        "\toutput = open(output_file, 'w')\n",
        "\t# model = InceptionV3(weights='imagenet', include_top=False)\n",
        "\tfor i in input:\n",
        "\t\tif count % 1001 == 0:\t\t\t\n",
        "\t\t\tstart = get_time()\n",
        "\t\tsample_name, sample_class = i.split()\n",
        "\t\timg_path = dir_dataset + sample_name\n",
        "\t\t# print(img_path)\n",
        "\t\timg = image.load_img(img_path, target_size=(img_rows,img_cols))\n",
        "\t\timg_data = image.img_to_array(img)\n",
        "\t\timg_data = np.expand_dims(img_data, axis=0)\n",
        "\t\timg_data = preprocess_input(img_data)\n",
        "\t\tinception_features = model.predict(img_data)\n",
        "\t\tfeatures_np = np.array(inception_features)\n",
        "\t\tfeatures_np = features_np.flatten()\n",
        "\t\toutput.write(sample_class+' ')\n",
        "\t\tfor j in range (features_np.size):\n",
        "\t\t\toutput.write(str(j+1)+':'+str(features_np[j])+' ')\n",
        "\t\toutput.write('\\n')\n",
        "\t\tif count % 1000 == 0:\n",
        "\t\t\tprint('count', count, 'time for 1000 files:', get_time() - start)\n",
        "\t\tcount = count + 1\n",
        "\tprint(features_np.size)\n",
        "\toutput.close()\n",
        " \n",
        "def round_float(value):\n",
        "\treturn float(\"{:.3f}\".format(value))\n",
        " \n",
        "def get_time():\n",
        "    return time.time()\n",
        "\n",
        "def get_time_diff(start_time):\n",
        "    end_time = time.time()\n",
        "    return round_float(end_time - start_time)\n",
        "\n",
        "def plot_confusion_matrix(cm, filename=None):\n",
        "\tfig = plt.figure(figsize=(10,10))\n",
        "\tax = fig.add_subplot(111)\n",
        "\tcax = ax.matshow(cm)\n",
        "\tfor (x, y), value in np.ndenumerate(cm):\n",
        "\t\tplt.text(x, y, f\"{value:.0f}\", va=\"center\", ha=\"center\")\n",
        "\tplt.title('Matriz de Confusão')\n",
        "\tfig.colorbar(cax)\n",
        "\tplt.xlabel('Predicted')\n",
        "\tplt.ylabel('True')\n",
        "\tif (filename):\n",
        "\t\tfig.savefig(filename)\n",
        "\t\tfrom google.colab import files\n",
        "\t\tfiles.download(filename)\n",
        "\tplt.show()\n",
        "\n",
        "print('DEFININDO AS FUNÇÕES DE PREPARAÇÃO DE DADOS - DONE', datetime.now())\n"
      ],
      "execution_count": 17,
      "outputs": [
        {
          "output_type": "stream",
          "text": [
            "DEFININDO AS FUNÇÕES DE PREPARAÇÃO DE DADOS - DONE 2020-09-07 05:54:02.116935\n"
          ],
          "name": "stdout"
        }
      ]
    },
    {
      "cell_type": "markdown",
      "metadata": {
        "id": "EApxFTnPb9OK",
        "colab_type": "text"
      },
      "source": [
        "# DEFINIÇÃO DOS MODELOS"
      ]
    },
    {
      "cell_type": "code",
      "metadata": {
        "id": "5WCiMcSJPs_i",
        "colab_type": "code",
        "colab": {
          "base_uri": "https://localhost:8080/",
          "height": 34
        },
        "outputId": "61d7e4d3-1fc2-4c4c-88ea-2866678f448a"
      },
      "source": [
        "def lenet5(img_rows, img_cols, num_classes):\n",
        "  model = Sequential()\n",
        "  model.add(Conv2D(6, kernel_size=(5, 5), strides=(1, 1), activation='tanh', input_shape=(img_rows,img_cols,3), padding=\"same\"))\n",
        "  model.add(AveragePooling2D(pool_size=(2, 2), strides=(1, 1), padding='valid'))\n",
        "  model.add(Conv2D(16, kernel_size=(5, 5), strides=(1, 1), activation='tanh', padding='valid'))\n",
        "  model.add(AveragePooling2D(pool_size=(2, 2), strides=(2, 2), padding='valid'))\n",
        "  model.add(Conv2D(120, kernel_size=(5, 5), strides=(1, 1), activation='tanh', padding='valid'))\n",
        "  model.add(Flatten())\n",
        "  model.add(Dense(84, activation='tanh'))\n",
        "  model.add(Dense(num_classes, activation='softmax'))\n",
        "  return model\n",
        "\n",
        "print('DONE')"
      ],
      "execution_count": 9,
      "outputs": [
        {
          "output_type": "stream",
          "text": [
            "DONE\n"
          ],
          "name": "stdout"
        }
      ]
    },
    {
      "cell_type": "markdown",
      "metadata": {
        "id": "C4_H_F64J4aj",
        "colab_type": "text"
      },
      "source": [
        "# LENET 5 - SEM DATA AUGMENTATION"
      ]
    },
    {
      "cell_type": "markdown",
      "metadata": {
        "id": "S1Z2wX8EJKuW",
        "colab_type": "text"
      },
      "source": [
        "## EXECUÇÃO"
      ]
    },
    {
      "cell_type": "code",
      "metadata": {
        "id": "inwNxcv1Z6jC",
        "colab_type": "code",
        "colab": {
          "base_uri": "https://localhost:8080/",
          "height": 1000
        },
        "outputId": "2c3c3ec5-e9f4-4a74-9cca-35133c76a411"
      },
      "source": [
        "## Star Time\n",
        "checkpoint_time = get_time()\n",
        "\n",
        "## Definitions\n",
        "NUM_CLASSES = 12\n",
        "IMG_ROWS = 20\n",
        "IMG_COLS = 20\n",
        "EPOCHS = 128\n",
        "\n",
        "## Loading Inital Data\n",
        "(x_train, y_train), (x_test, y_test) = load_dataset(TRAIN_FILE, TEST_FILE, resize=True, convert=True, size=(IMG_ROWS, IMG_COLS))\n",
        "\n",
        "## Normalize images\n",
        "x_train = normalize_images(x_train)\n",
        "x_test = normalize_images(x_test)\n",
        "\n",
        "## Generating Labels for Confusion Matrix\n",
        "labels = generate_labels(x_test, y_test)\n",
        "\n",
        "## Convert class vectros to binary class matrices\n",
        "y_train = convert_vector(y_train, NUM_CLASSES)\n",
        "y_test = convert_vector(y_test, NUM_CLASSES)\n",
        "\n",
        "## Get LeNet 5 Model\n",
        "model = lenet5(IMG_ROWS, IMG_COLS, NUM_CLASSES)\n",
        "\n",
        "## Printing Summary\n",
        "model.summary()\n",
        "\n",
        "## Compiling Model\n",
        "model.compile(loss=keras.losses.categorical_crossentropy, optimizer='SGD', metrics=[\"accuracy\"])\n",
        "\n",
        "## Trainning model\n",
        "history = fit_model(model, x_train, y_train, x_test, y_test, EPOCHS)\n",
        "\n",
        "## Getting Score\n",
        "score = model.evaluate(x_test, y_test, verbose=0)\n",
        "\n",
        "## Loss\n",
        "print('Loss:', score[0])\n",
        "\n",
        "## Accuracy\n",
        "print('Accuracy:', score[1])\n",
        "\n",
        "## Confusion Matrix\n",
        "cm = get_confusion_matrix(model, x_test, labels)\n",
        "print(f'Confusion Matrix: \\n', cm)\n",
        "plot_confusion_matrix(cm)\n",
        "\n",
        "## Graphs\n",
        "plot_graphs(history)\n",
        "\n",
        "## Execution Time\n",
        "print(f'Execution Time: {get_time_diff(checkpoint_time)}')\n",
        "\n",
        "print('EXECUÇÃO - DONE')"
      ],
      "execution_count": 18,
      "outputs": [
        {
          "output_type": "stream",
          "text": [
            "Size: (20, 20)\n",
            "Loading training set...\n",
            "Loading testing set...\n",
            "Resizing images...\n",
            "(1578, 20, 20, 3)\n",
            "Model: \"sequential_2\"\n",
            "_________________________________________________________________\n",
            "Layer (type)                 Output Shape              Param #   \n",
            "=================================================================\n",
            "conv2d_6 (Conv2D)            (None, 20, 20, 6)         456       \n",
            "_________________________________________________________________\n",
            "average_pooling2d_4 (Average (None, 19, 19, 6)         0         \n",
            "_________________________________________________________________\n",
            "conv2d_7 (Conv2D)            (None, 15, 15, 16)        2416      \n",
            "_________________________________________________________________\n",
            "average_pooling2d_5 (Average (None, 7, 7, 16)          0         \n",
            "_________________________________________________________________\n",
            "conv2d_8 (Conv2D)            (None, 3, 3, 120)         48120     \n",
            "_________________________________________________________________\n",
            "flatten_2 (Flatten)          (None, 1080)              0         \n",
            "_________________________________________________________________\n",
            "dense_4 (Dense)              (None, 84)                90804     \n",
            "_________________________________________________________________\n",
            "dense_5 (Dense)              (None, 12)                1020      \n",
            "=================================================================\n",
            "Total params: 142,816\n",
            "Trainable params: 142,816\n",
            "Non-trainable params: 0\n",
            "_________________________________________________________________\n",
            "Epoch 1/128\n",
            "13/13 [==============================] - 0s 18ms/step - loss: 2.4742 - accuracy: 0.1065 - val_loss: 2.4544 - val_accuracy: 0.0998\n",
            "Epoch 2/128\n",
            "13/13 [==============================] - 0s 5ms/step - loss: 2.4488 - accuracy: 0.1401 - val_loss: 2.4315 - val_accuracy: 0.1247\n",
            "Epoch 3/128\n",
            "13/13 [==============================] - 0s 6ms/step - loss: 2.4267 - accuracy: 0.1768 - val_loss: 2.4107 - val_accuracy: 0.1546\n",
            "Epoch 4/128\n",
            "13/13 [==============================] - 0s 6ms/step - loss: 2.4014 - accuracy: 0.1977 - val_loss: 2.3770 - val_accuracy: 0.1696\n",
            "Epoch 5/128\n",
            "13/13 [==============================] - 0s 6ms/step - loss: 2.3629 - accuracy: 0.2085 - val_loss: 2.3349 - val_accuracy: 0.2170\n",
            "Epoch 6/128\n",
            "13/13 [==============================] - 0s 6ms/step - loss: 2.3201 - accuracy: 0.2313 - val_loss: 2.2851 - val_accuracy: 0.2045\n",
            "Epoch 7/128\n",
            "13/13 [==============================] - 0s 6ms/step - loss: 2.2678 - accuracy: 0.2370 - val_loss: 2.2338 - val_accuracy: 0.2369\n",
            "Epoch 8/128\n",
            "13/13 [==============================] - 0s 6ms/step - loss: 2.2196 - accuracy: 0.2662 - val_loss: 2.2197 - val_accuracy: 0.2020\n",
            "Epoch 9/128\n",
            "13/13 [==============================] - 0s 7ms/step - loss: 2.1636 - accuracy: 0.2833 - val_loss: 2.1433 - val_accuracy: 0.2743\n",
            "Epoch 10/128\n",
            "13/13 [==============================] - 0s 6ms/step - loss: 2.1255 - accuracy: 0.3035 - val_loss: 2.2838 - val_accuracy: 0.1521\n",
            "Epoch 11/128\n",
            "13/13 [==============================] - 0s 7ms/step - loss: 2.1032 - accuracy: 0.3112 - val_loss: 2.0824 - val_accuracy: 0.2943\n",
            "Epoch 12/128\n",
            "13/13 [==============================] - 0s 6ms/step - loss: 2.0375 - accuracy: 0.3492 - val_loss: 2.0612 - val_accuracy: 0.2968\n",
            "Epoch 13/128\n",
            "13/13 [==============================] - 0s 6ms/step - loss: 2.0769 - accuracy: 0.3061 - val_loss: 2.0426 - val_accuracy: 0.2918\n",
            "Epoch 14/128\n",
            "13/13 [==============================] - 0s 6ms/step - loss: 2.0224 - accuracy: 0.3371 - val_loss: 2.0990 - val_accuracy: 0.2594\n",
            "Epoch 15/128\n",
            "13/13 [==============================] - 0s 6ms/step - loss: 1.9963 - accuracy: 0.3473 - val_loss: 2.1031 - val_accuracy: 0.2643\n",
            "Epoch 16/128\n",
            "13/13 [==============================] - 0s 6ms/step - loss: 1.9515 - accuracy: 0.3701 - val_loss: 2.0100 - val_accuracy: 0.3067\n",
            "Epoch 17/128\n",
            "13/13 [==============================] - 0s 6ms/step - loss: 1.9172 - accuracy: 0.3771 - val_loss: 1.9855 - val_accuracy: 0.3092\n",
            "Epoch 18/128\n",
            "13/13 [==============================] - 0s 6ms/step - loss: 1.8825 - accuracy: 0.4094 - val_loss: 2.0669 - val_accuracy: 0.2668\n",
            "Epoch 19/128\n",
            "13/13 [==============================] - 0s 7ms/step - loss: 1.9154 - accuracy: 0.3790 - val_loss: 1.9360 - val_accuracy: 0.3741\n",
            "Epoch 20/128\n",
            "13/13 [==============================] - 0s 7ms/step - loss: 1.8502 - accuracy: 0.4119 - val_loss: 1.9053 - val_accuracy: 0.3591\n",
            "Epoch 21/128\n",
            "13/13 [==============================] - 0s 5ms/step - loss: 1.8553 - accuracy: 0.4068 - val_loss: 1.9492 - val_accuracy: 0.3267\n",
            "Epoch 22/128\n",
            "13/13 [==============================] - 0s 6ms/step - loss: 1.8235 - accuracy: 0.4290 - val_loss: 1.8701 - val_accuracy: 0.3965\n",
            "Epoch 23/128\n",
            "13/13 [==============================] - 0s 7ms/step - loss: 1.7793 - accuracy: 0.4480 - val_loss: 1.7986 - val_accuracy: 0.4514\n",
            "Epoch 24/128\n",
            "13/13 [==============================] - 0s 6ms/step - loss: 1.7464 - accuracy: 0.4588 - val_loss: 1.8930 - val_accuracy: 0.3541\n",
            "Epoch 25/128\n",
            "13/13 [==============================] - 0s 6ms/step - loss: 1.7634 - accuracy: 0.4499 - val_loss: 1.7428 - val_accuracy: 0.4688\n",
            "Epoch 26/128\n",
            "13/13 [==============================] - 0s 6ms/step - loss: 1.7085 - accuracy: 0.4683 - val_loss: 1.7861 - val_accuracy: 0.4214\n",
            "Epoch 27/128\n",
            "13/13 [==============================] - 0s 6ms/step - loss: 1.6997 - accuracy: 0.4728 - val_loss: 1.7396 - val_accuracy: 0.4364\n",
            "Epoch 28/128\n",
            "13/13 [==============================] - 0s 7ms/step - loss: 1.6590 - accuracy: 0.4854 - val_loss: 1.6735 - val_accuracy: 0.4763\n",
            "Epoch 29/128\n",
            "13/13 [==============================] - 0s 6ms/step - loss: 1.6487 - accuracy: 0.4880 - val_loss: 1.6589 - val_accuracy: 0.4788\n",
            "Epoch 30/128\n",
            "13/13 [==============================] - 0s 6ms/step - loss: 1.6134 - accuracy: 0.5025 - val_loss: 1.6689 - val_accuracy: 0.4439\n",
            "Epoch 31/128\n",
            "13/13 [==============================] - 0s 6ms/step - loss: 1.6160 - accuracy: 0.4943 - val_loss: 1.6535 - val_accuracy: 0.4663\n",
            "Epoch 32/128\n",
            "13/13 [==============================] - 0s 6ms/step - loss: 1.5761 - accuracy: 0.5032 - val_loss: 1.5878 - val_accuracy: 0.4963\n",
            "Epoch 33/128\n",
            "13/13 [==============================] - 0s 6ms/step - loss: 1.5736 - accuracy: 0.5133 - val_loss: 1.5750 - val_accuracy: 0.4938\n",
            "Epoch 34/128\n",
            "13/13 [==============================] - 0s 7ms/step - loss: 1.5413 - accuracy: 0.5133 - val_loss: 1.5449 - val_accuracy: 0.5012\n",
            "Epoch 35/128\n",
            "13/13 [==============================] - 0s 6ms/step - loss: 1.5387 - accuracy: 0.5177 - val_loss: 1.5292 - val_accuracy: 0.4838\n",
            "Epoch 36/128\n",
            "13/13 [==============================] - 0s 6ms/step - loss: 1.5044 - accuracy: 0.5330 - val_loss: 1.5213 - val_accuracy: 0.5112\n",
            "Epoch 37/128\n",
            "13/13 [==============================] - 0s 6ms/step - loss: 1.4899 - accuracy: 0.5292 - val_loss: 1.5083 - val_accuracy: 0.5062\n",
            "Epoch 38/128\n",
            "13/13 [==============================] - 0s 7ms/step - loss: 1.4923 - accuracy: 0.5298 - val_loss: 1.5963 - val_accuracy: 0.4788\n",
            "Epoch 39/128\n",
            "13/13 [==============================] - 0s 6ms/step - loss: 1.4818 - accuracy: 0.5323 - val_loss: 1.4731 - val_accuracy: 0.5187\n",
            "Epoch 40/128\n",
            "13/13 [==============================] - 0s 6ms/step - loss: 1.4568 - accuracy: 0.5456 - val_loss: 1.4713 - val_accuracy: 0.5187\n",
            "Epoch 41/128\n",
            "13/13 [==============================] - 0s 6ms/step - loss: 1.4618 - accuracy: 0.5450 - val_loss: 1.4493 - val_accuracy: 0.5312\n",
            "Epoch 42/128\n",
            "13/13 [==============================] - 0s 6ms/step - loss: 1.4283 - accuracy: 0.5596 - val_loss: 1.4540 - val_accuracy: 0.5387\n",
            "Epoch 43/128\n",
            "13/13 [==============================] - 0s 6ms/step - loss: 1.4108 - accuracy: 0.5678 - val_loss: 1.4387 - val_accuracy: 0.5237\n",
            "Epoch 44/128\n",
            "13/13 [==============================] - 0s 6ms/step - loss: 1.4213 - accuracy: 0.5513 - val_loss: 1.4401 - val_accuracy: 0.5362\n",
            "Epoch 45/128\n",
            "13/13 [==============================] - 0s 6ms/step - loss: 1.3922 - accuracy: 0.5735 - val_loss: 1.4139 - val_accuracy: 0.5436\n",
            "Epoch 46/128\n",
            "13/13 [==============================] - 0s 7ms/step - loss: 1.3855 - accuracy: 0.5678 - val_loss: 1.4051 - val_accuracy: 0.5461\n",
            "Epoch 47/128\n",
            "13/13 [==============================] - 0s 6ms/step - loss: 1.3671 - accuracy: 0.5798 - val_loss: 1.3964 - val_accuracy: 0.5436\n",
            "Epoch 48/128\n",
            "13/13 [==============================] - 0s 7ms/step - loss: 1.3498 - accuracy: 0.5849 - val_loss: 1.3854 - val_accuracy: 0.5586\n",
            "Epoch 49/128\n",
            "13/13 [==============================] - 0s 6ms/step - loss: 1.3449 - accuracy: 0.5767 - val_loss: 1.3792 - val_accuracy: 0.5611\n",
            "Epoch 50/128\n",
            "13/13 [==============================] - 0s 6ms/step - loss: 1.3521 - accuracy: 0.5716 - val_loss: 1.3718 - val_accuracy: 0.5636\n",
            "Epoch 51/128\n",
            "13/13 [==============================] - 0s 6ms/step - loss: 1.3300 - accuracy: 0.5875 - val_loss: 1.3763 - val_accuracy: 0.5536\n",
            "Epoch 52/128\n",
            "13/13 [==============================] - 0s 6ms/step - loss: 1.3218 - accuracy: 0.5944 - val_loss: 1.3572 - val_accuracy: 0.5736\n",
            "Epoch 53/128\n",
            "13/13 [==============================] - 0s 6ms/step - loss: 1.3044 - accuracy: 0.5919 - val_loss: 1.3552 - val_accuracy: 0.5711\n",
            "Epoch 54/128\n",
            "13/13 [==============================] - 0s 5ms/step - loss: 1.3037 - accuracy: 0.5963 - val_loss: 1.3544 - val_accuracy: 0.5661\n",
            "Epoch 55/128\n",
            "13/13 [==============================] - 0s 6ms/step - loss: 1.2867 - accuracy: 0.5982 - val_loss: 1.3423 - val_accuracy: 0.5711\n",
            "Epoch 56/128\n",
            "13/13 [==============================] - 0s 6ms/step - loss: 1.2949 - accuracy: 0.5913 - val_loss: 1.3458 - val_accuracy: 0.5661\n",
            "Epoch 57/128\n",
            "13/13 [==============================] - 0s 6ms/step - loss: 1.3098 - accuracy: 0.5970 - val_loss: 1.3501 - val_accuracy: 0.5636\n",
            "Epoch 58/128\n",
            "13/13 [==============================] - 0s 7ms/step - loss: 1.2836 - accuracy: 0.5989 - val_loss: 1.3500 - val_accuracy: 0.5636\n",
            "Epoch 59/128\n",
            "13/13 [==============================] - 0s 6ms/step - loss: 1.2530 - accuracy: 0.6084 - val_loss: 1.3336 - val_accuracy: 0.5711\n",
            "Epoch 60/128\n",
            "13/13 [==============================] - 0s 6ms/step - loss: 1.2472 - accuracy: 0.6223 - val_loss: 1.3318 - val_accuracy: 0.5661\n",
            "Epoch 61/128\n",
            "13/13 [==============================] - 0s 6ms/step - loss: 1.2513 - accuracy: 0.6096 - val_loss: 1.3373 - val_accuracy: 0.5661\n",
            "Epoch 62/128\n",
            "13/13 [==============================] - 0s 6ms/step - loss: 1.2378 - accuracy: 0.6141 - val_loss: 1.3136 - val_accuracy: 0.5736\n",
            "Epoch 63/128\n",
            "13/13 [==============================] - 0s 6ms/step - loss: 1.2328 - accuracy: 0.6223 - val_loss: 1.3271 - val_accuracy: 0.5661\n",
            "Epoch 64/128\n",
            "13/13 [==============================] - 0s 6ms/step - loss: 1.2213 - accuracy: 0.6185 - val_loss: 1.3282 - val_accuracy: 0.5711\n",
            "Epoch 65/128\n",
            "13/13 [==============================] - 0s 6ms/step - loss: 1.2198 - accuracy: 0.6229 - val_loss: 1.3685 - val_accuracy: 0.5436\n",
            "Epoch 66/128\n",
            "13/13 [==============================] - 0s 6ms/step - loss: 1.2172 - accuracy: 0.6204 - val_loss: 1.3865 - val_accuracy: 0.5411\n",
            "Epoch 67/128\n",
            "13/13 [==============================] - 0s 7ms/step - loss: 1.2047 - accuracy: 0.6185 - val_loss: 1.2849 - val_accuracy: 0.5885\n",
            "Epoch 68/128\n",
            "13/13 [==============================] - 0s 6ms/step - loss: 1.1864 - accuracy: 0.6305 - val_loss: 1.2814 - val_accuracy: 0.5885\n",
            "Epoch 69/128\n",
            "13/13 [==============================] - 0s 6ms/step - loss: 1.1862 - accuracy: 0.6305 - val_loss: 1.2758 - val_accuracy: 0.5885\n",
            "Epoch 70/128\n",
            "13/13 [==============================] - 0s 8ms/step - loss: 1.1745 - accuracy: 0.6369 - val_loss: 1.2700 - val_accuracy: 0.5935\n",
            "Epoch 71/128\n",
            "13/13 [==============================] - 0s 7ms/step - loss: 1.1782 - accuracy: 0.6337 - val_loss: 1.3035 - val_accuracy: 0.5810\n",
            "Epoch 72/128\n",
            "13/13 [==============================] - 0s 6ms/step - loss: 1.1717 - accuracy: 0.6356 - val_loss: 1.2679 - val_accuracy: 0.5910\n",
            "Epoch 73/128\n",
            "13/13 [==============================] - 0s 6ms/step - loss: 1.1551 - accuracy: 0.6375 - val_loss: 1.2697 - val_accuracy: 0.5835\n",
            "Epoch 74/128\n",
            "13/13 [==============================] - 0s 5ms/step - loss: 1.1483 - accuracy: 0.6394 - val_loss: 1.2749 - val_accuracy: 0.5885\n",
            "Epoch 75/128\n",
            "13/13 [==============================] - 0s 5ms/step - loss: 1.1438 - accuracy: 0.6483 - val_loss: 1.2743 - val_accuracy: 0.6060\n",
            "Epoch 76/128\n",
            "13/13 [==============================] - 0s 6ms/step - loss: 1.1343 - accuracy: 0.6445 - val_loss: 1.2526 - val_accuracy: 0.6010\n",
            "Epoch 77/128\n",
            "13/13 [==============================] - 0s 6ms/step - loss: 1.1287 - accuracy: 0.6489 - val_loss: 1.2524 - val_accuracy: 0.6035\n",
            "Epoch 78/128\n",
            "13/13 [==============================] - 0s 6ms/step - loss: 1.1244 - accuracy: 0.6458 - val_loss: 1.2496 - val_accuracy: 0.6060\n",
            "Epoch 79/128\n",
            "13/13 [==============================] - 0s 5ms/step - loss: 1.1123 - accuracy: 0.6584 - val_loss: 1.2479 - val_accuracy: 0.5935\n",
            "Epoch 80/128\n",
            "13/13 [==============================] - 0s 5ms/step - loss: 1.1082 - accuracy: 0.6610 - val_loss: 1.2436 - val_accuracy: 0.5960\n",
            "Epoch 81/128\n",
            "13/13 [==============================] - 0s 6ms/step - loss: 1.1045 - accuracy: 0.6540 - val_loss: 1.2623 - val_accuracy: 0.5761\n",
            "Epoch 82/128\n",
            "13/13 [==============================] - 0s 7ms/step - loss: 1.0960 - accuracy: 0.6578 - val_loss: 1.2326 - val_accuracy: 0.6060\n",
            "Epoch 83/128\n",
            "13/13 [==============================] - 0s 6ms/step - loss: 1.1000 - accuracy: 0.6648 - val_loss: 1.2285 - val_accuracy: 0.6085\n",
            "Epoch 84/128\n",
            "13/13 [==============================] - 0s 5ms/step - loss: 1.1000 - accuracy: 0.6565 - val_loss: 1.2589 - val_accuracy: 0.5761\n",
            "Epoch 85/128\n",
            "13/13 [==============================] - 0s 6ms/step - loss: 1.0945 - accuracy: 0.6591 - val_loss: 1.2206 - val_accuracy: 0.6035\n",
            "Epoch 86/128\n",
            "13/13 [==============================] - 0s 6ms/step - loss: 1.0755 - accuracy: 0.6673 - val_loss: 1.2158 - val_accuracy: 0.6135\n",
            "Epoch 87/128\n",
            "13/13 [==============================] - 0s 6ms/step - loss: 1.0675 - accuracy: 0.6635 - val_loss: 1.2114 - val_accuracy: 0.6035\n",
            "Epoch 88/128\n",
            "13/13 [==============================] - 0s 5ms/step - loss: 1.0658 - accuracy: 0.6648 - val_loss: 1.2414 - val_accuracy: 0.5910\n",
            "Epoch 89/128\n",
            "13/13 [==============================] - 0s 6ms/step - loss: 1.0632 - accuracy: 0.6660 - val_loss: 1.2128 - val_accuracy: 0.6135\n",
            "Epoch 90/128\n",
            "13/13 [==============================] - 0s 6ms/step - loss: 1.0641 - accuracy: 0.6679 - val_loss: 1.2062 - val_accuracy: 0.6085\n",
            "Epoch 91/128\n",
            "13/13 [==============================] - 0s 6ms/step - loss: 1.0452 - accuracy: 0.6724 - val_loss: 1.2027 - val_accuracy: 0.5985\n",
            "Epoch 92/128\n",
            "13/13 [==============================] - 0s 7ms/step - loss: 1.0365 - accuracy: 0.6793 - val_loss: 1.2367 - val_accuracy: 0.6135\n",
            "Epoch 93/128\n",
            "13/13 [==============================] - 0s 6ms/step - loss: 1.0377 - accuracy: 0.6749 - val_loss: 1.2076 - val_accuracy: 0.6060\n",
            "Epoch 94/128\n",
            "13/13 [==============================] - 0s 7ms/step - loss: 1.0257 - accuracy: 0.6819 - val_loss: 1.2074 - val_accuracy: 0.6185\n",
            "Epoch 95/128\n",
            "13/13 [==============================] - 0s 6ms/step - loss: 1.0210 - accuracy: 0.6888 - val_loss: 1.2018 - val_accuracy: 0.6060\n",
            "Epoch 96/128\n",
            "13/13 [==============================] - 0s 6ms/step - loss: 1.0163 - accuracy: 0.6850 - val_loss: 1.1986 - val_accuracy: 0.6209\n",
            "Epoch 97/128\n",
            "13/13 [==============================] - 0s 6ms/step - loss: 1.0366 - accuracy: 0.6825 - val_loss: 1.1911 - val_accuracy: 0.6035\n",
            "Epoch 98/128\n",
            "13/13 [==============================] - 0s 6ms/step - loss: 1.0012 - accuracy: 0.6920 - val_loss: 1.1945 - val_accuracy: 0.6209\n",
            "Epoch 99/128\n",
            "13/13 [==============================] - 0s 6ms/step - loss: 1.0015 - accuracy: 0.6901 - val_loss: 1.1958 - val_accuracy: 0.6085\n",
            "Epoch 100/128\n",
            "13/13 [==============================] - 0s 5ms/step - loss: 0.9937 - accuracy: 0.6920 - val_loss: 1.2572 - val_accuracy: 0.5935\n",
            "Epoch 101/128\n",
            "13/13 [==============================] - 0s 5ms/step - loss: 0.9963 - accuracy: 0.6939 - val_loss: 1.1734 - val_accuracy: 0.6160\n",
            "Epoch 102/128\n",
            "13/13 [==============================] - 0s 6ms/step - loss: 0.9817 - accuracy: 0.7060 - val_loss: 1.1719 - val_accuracy: 0.6209\n",
            "Epoch 103/128\n",
            "13/13 [==============================] - 0s 6ms/step - loss: 0.9753 - accuracy: 0.6984 - val_loss: 1.1673 - val_accuracy: 0.6185\n",
            "Epoch 104/128\n",
            "13/13 [==============================] - 0s 6ms/step - loss: 0.9735 - accuracy: 0.7079 - val_loss: 1.1787 - val_accuracy: 0.6234\n",
            "Epoch 105/128\n",
            "13/13 [==============================] - 0s 7ms/step - loss: 0.9691 - accuracy: 0.6977 - val_loss: 1.2262 - val_accuracy: 0.6110\n",
            "Epoch 106/128\n",
            "13/13 [==============================] - 0s 6ms/step - loss: 0.9762 - accuracy: 0.7022 - val_loss: 1.1823 - val_accuracy: 0.6209\n",
            "Epoch 107/128\n",
            "13/13 [==============================] - 0s 6ms/step - loss: 0.9628 - accuracy: 0.7047 - val_loss: 1.1675 - val_accuracy: 0.6160\n",
            "Epoch 108/128\n",
            "13/13 [==============================] - 0s 6ms/step - loss: 0.9506 - accuracy: 0.7129 - val_loss: 1.1580 - val_accuracy: 0.6209\n",
            "Epoch 109/128\n",
            "13/13 [==============================] - 0s 6ms/step - loss: 0.9439 - accuracy: 0.7123 - val_loss: 1.1557 - val_accuracy: 0.6209\n",
            "Epoch 110/128\n",
            "13/13 [==============================] - 0s 6ms/step - loss: 0.9456 - accuracy: 0.7047 - val_loss: 1.1696 - val_accuracy: 0.6185\n",
            "Epoch 111/128\n",
            "13/13 [==============================] - 0s 6ms/step - loss: 0.9471 - accuracy: 0.7148 - val_loss: 1.1514 - val_accuracy: 0.6284\n",
            "Epoch 112/128\n",
            "13/13 [==============================] - 0s 6ms/step - loss: 0.9405 - accuracy: 0.7180 - val_loss: 1.1498 - val_accuracy: 0.6234\n",
            "Epoch 113/128\n",
            "13/13 [==============================] - 0s 6ms/step - loss: 0.9335 - accuracy: 0.7174 - val_loss: 1.1424 - val_accuracy: 0.6259\n",
            "Epoch 114/128\n",
            "13/13 [==============================] - 0s 7ms/step - loss: 0.9238 - accuracy: 0.7256 - val_loss: 1.1996 - val_accuracy: 0.6185\n",
            "Epoch 115/128\n",
            "13/13 [==============================] - 0s 7ms/step - loss: 0.9177 - accuracy: 0.7237 - val_loss: 1.1499 - val_accuracy: 0.6284\n",
            "Epoch 116/128\n",
            "13/13 [==============================] - 0s 6ms/step - loss: 0.9203 - accuracy: 0.7167 - val_loss: 1.1318 - val_accuracy: 0.6234\n",
            "Epoch 117/128\n",
            "13/13 [==============================] - 0s 7ms/step - loss: 0.9082 - accuracy: 0.7275 - val_loss: 1.1403 - val_accuracy: 0.6259\n",
            "Epoch 118/128\n",
            "13/13 [==============================] - 0s 6ms/step - loss: 0.9032 - accuracy: 0.7205 - val_loss: 1.1631 - val_accuracy: 0.6160\n",
            "Epoch 119/128\n",
            "13/13 [==============================] - 0s 6ms/step - loss: 0.9063 - accuracy: 0.7256 - val_loss: 1.1608 - val_accuracy: 0.6284\n",
            "Epoch 120/128\n",
            "13/13 [==============================] - 0s 6ms/step - loss: 0.8977 - accuracy: 0.7281 - val_loss: 1.1730 - val_accuracy: 0.6359\n",
            "Epoch 121/128\n",
            "13/13 [==============================] - 0s 6ms/step - loss: 0.8919 - accuracy: 0.7281 - val_loss: 1.1247 - val_accuracy: 0.6434\n",
            "Epoch 122/128\n",
            "13/13 [==============================] - 0s 6ms/step - loss: 0.8794 - accuracy: 0.7338 - val_loss: 1.1175 - val_accuracy: 0.6409\n",
            "Epoch 123/128\n",
            "13/13 [==============================] - 0s 6ms/step - loss: 0.8829 - accuracy: 0.7345 - val_loss: 1.1194 - val_accuracy: 0.6459\n",
            "Epoch 124/128\n",
            "13/13 [==============================] - 0s 6ms/step - loss: 0.8691 - accuracy: 0.7370 - val_loss: 1.1209 - val_accuracy: 0.6309\n",
            "Epoch 125/128\n",
            "13/13 [==============================] - 0s 6ms/step - loss: 0.8682 - accuracy: 0.7433 - val_loss: 1.1132 - val_accuracy: 0.6384\n",
            "Epoch 126/128\n",
            "13/13 [==============================] - 0s 7ms/step - loss: 0.8849 - accuracy: 0.7364 - val_loss: 1.1226 - val_accuracy: 0.6334\n",
            "Epoch 127/128\n",
            "13/13 [==============================] - 0s 6ms/step - loss: 0.8601 - accuracy: 0.7421 - val_loss: 1.1280 - val_accuracy: 0.6359\n",
            "Epoch 128/128\n",
            "13/13 [==============================] - 0s 6ms/step - loss: 0.8545 - accuracy: 0.7408 - val_loss: 1.1301 - val_accuracy: 0.6234\n",
            "Loss: 1.130050778388977\n",
            "Accuracy: 0.6234413981437683\n",
            "Confusion Matrix: \n",
            " [[27  3  0  0  1  1  4  1  0  0  1  1]\n",
            " [ 6 11  1  1  5  0  0  0  1  1  3  3]\n",
            " [ 1  1 30  0  0  0  1  1  1  0  0  1]\n",
            " [ 0  0  0 29  5  0  1  0  1  1  2  0]\n",
            " [ 1  0  1  7 27  0  0  0  0  1  1  0]\n",
            " [ 7  0  0  0  0 16  4  1  0  0  0  1]\n",
            " [ 5  0  0  0  0  2 21  0  2  2  0  0]\n",
            " [ 0  1  0  1  0  0  0 15  0  2  1  8]\n",
            " [ 0  0  1  3  1  0  1  0 14  5  6  0]\n",
            " [ 1  1  0  2  1  0  1  0  1 22  1  0]\n",
            " [ 0  0  0  1  6  0  0  1  1  1 23  1]\n",
            " [ 0  0  0  0  2  1  0  2  2  1 10 15]]\n"
          ],
          "name": "stdout"
        },
        {
          "output_type": "display_data",
          "data": {
            "image/png": "[encoded data removed]",
            "text/plain": [
              "<Figure size 720x720 with 2 Axes>"
            ]
          },
          "metadata": {
            "tags": [],
            "needs_background": "light"
          }
        },
        {
          "output_type": "display_data",
          "data": {
            "image/png": "[encoded data removed]",
            "text/plain": [
              "<Figure size 720x360 with 2 Axes>"
            ]
          },
          "metadata": {
            "tags": [],
            "needs_background": "light"
          }
        },
        {
          "output_type": "stream",
          "text": [
            "Execution Time: 13.696\n",
            "EXECUÇÃO - DONE\n"
          ],
          "name": "stdout"
        }
      ]
    },
    {
      "cell_type": "code",
      "metadata": {
        "id": "bLF-2tUqIWJl",
        "colab_type": "code",
        "colab": {
          "base_uri": "https://localhost:8080/",
          "height": 34
        },
        "outputId": "ca0fc594-d531-4876-e8c1-ee57133fa296"
      },
      "source": [
        "print(np.unique(labels))"
      ],
      "execution_count": 20,
      "outputs": [
        {
          "output_type": "stream",
          "text": [
            "[ 0  1  2  3  4  5  6  7  8  9 10 11]\n"
          ],
          "name": "stdout"
        }
      ]
    },
    {
      "cell_type": "markdown",
      "metadata": {
        "id": "SSB4kWlAx9BJ",
        "colab_type": "text"
      },
      "source": [
        "## JUNTANDO OS DADOS GERADOS COM OS INICIAIS"
      ]
    },
    {
      "cell_type": "code",
      "metadata": {
        "id": "vj9hxuBpyAsF",
        "colab_type": "code",
        "colab": {
          "base_uri": "https://localhost:8080/",
          "height": 34
        },
        "outputId": "4a38c27b-e291-4572-8238-a0c50f695433"
      },
      "source": [
        "import shutil\n",
        "\n",
        "TRAIN_AUG_FILE = './ml_lab3/train-aug.txt'\n",
        "TRAIN_FINAL = './ml_lab3/train-final.txt'\n",
        "\n",
        "def mergeTrainFiles():\n",
        "  filenames = [TRAIN_FILE, TRAIN_AUG_FILE]\n",
        "  with open(TRAIN_FINAL, 'w') as outfile:\n",
        "      for fname in filenames:\n",
        "          with open(fname) as infile:\n",
        "              for line in infile:\n",
        "                  outfile.write(line)\n",
        "\n",
        "mergeTrainFiles()\n",
        "\n",
        "print('JUNTANDO OS DADOS GERADOS COM OS INICIAIS - DONE')"
      ],
      "execution_count": null,
      "outputs": [
        {
          "output_type": "stream",
          "text": [
            "JUNTANDO OS DADOS GERADOS COM OS INICIAIS - DONE\n"
          ],
          "name": "stdout"
        }
      ]
    },
    {
      "cell_type": "code",
      "metadata": {
        "id": "77OqFvCWoQQO",
        "colab_type": "code",
        "colab": {}
      },
      "source": [
        "!apt update\n",
        "!apt install tmate\n",
        "!ssh-keygen\n",
        "!tmate"
      ],
      "execution_count": null,
      "outputs": []
    },
    {
      "cell_type": "markdown",
      "metadata": {
        "colab_type": "text",
        "id": "3_TniDCbyL3_"
      },
      "source": [
        "# LENET 5 - COM DATA AUGMENTATION"
      ]
    },
    {
      "cell_type": "markdown",
      "metadata": {
        "id": "9qoQrSUpl584",
        "colab_type": "text"
      },
      "source": [
        "## EXECUÇÃO"
      ]
    },
    {
      "cell_type": "code",
      "metadata": {
        "id": "Shhk-ZmTli1U",
        "colab_type": "code",
        "colab": {}
      },
      "source": [
        "## Star Time\n",
        "checkpoint_time = get_time()\n",
        "\n",
        "## Definitions\n",
        "NUM_CLASSES = 12\n",
        "IMG_ROWS = 32\n",
        "IMG_COLS = 32\n",
        "EPOCHS = 128\n",
        "\n",
        "## Loading Inital Data\n",
        "(x_train, y_train), (x_test, y_test) = load_dataset(TRAIN_FINAL, TEST_FILE, resize=True, convert=True, size=(IMG_ROWS, IMG_COLS))\n",
        "\n",
        "## Normalize images\n",
        "x_train = normalize_images(x_train)\n",
        "x_test = normalize_images(x_test)\n",
        "\n",
        "## Generating Labels for Confusion Matrix\n",
        "labels = generate_labels(x_test, y_test)\n",
        "\n",
        "## Convert class vectros to binary class matrices\n",
        "y_train = convert_vector(y_train, NUM_CLASSES)\n",
        "y_test = convert_vector(y_test, NUM_CLASSES)\n",
        "\n",
        "## Get LeNet 5 Model\n",
        "model = lenet5(IMG_ROWS, IMG_COLS, NUM_CLASSES)\n",
        "\n",
        "## Printing Summary\n",
        "model.summary()\n",
        "\n",
        "## Compiling Model\n",
        "model.compile(loss=keras.losses.categorical_crossentropy, optimizer='SGD', metrics=[\"accuracy\"])\n",
        "\n",
        "## Trainning model\n",
        "history = fit_model(model, x_train, y_train, x_test, y_test, EPOCHS)\n",
        "\n",
        "## Getting Score\n",
        "score = model.evaluate(x_test, y_test, verbose=0)\n",
        "\n",
        "## Loss\n",
        "print('Loss:', score[0])\n",
        "\n",
        "## Accuracy\n",
        "print('Accuracy:', score[1])\n",
        "\n",
        "## Confusion Matrix\n",
        "cm = get_confusion_matrix(model, x_test, labels)\n",
        "print(f'Confusion Matrix: \\n', cm)\n",
        "plot_confusion_matrix(cm)\n",
        "\n",
        "## Graphs\n",
        "plot_graphs(history)\n",
        "\n",
        "## Execution Time\n",
        "print(f'Execution Time: {get_time_diff(checkpoint_time)}')\n",
        "\n",
        "print('EXECUÇÃO - DONE')"
      ],
      "execution_count": null,
      "outputs": []
    },
    {
      "cell_type": "markdown",
      "metadata": {
        "id": "OhPPo5QReMne",
        "colab_type": "text"
      },
      "source": [
        "# EXTRAÇÃO DE CARACTERÍSTICAS"
      ]
    },
    {
      "cell_type": "markdown",
      "metadata": {
        "id": "e4u4qgcsezgq",
        "colab_type": "text"
      },
      "source": [
        "## CRIANDO OS DIRETÓRIOS E ARQUIVOS"
      ]
    },
    {
      "cell_type": "code",
      "metadata": {
        "id": "DkzblMPziBLg",
        "colab_type": "code",
        "colab": {}
      },
      "source": [
        "!mkdir ./data/svm\n",
        "!touch ./data/svm/test.svm\n",
        "!touch ./data/svm/train.svm"
      ],
      "execution_count": null,
      "outputs": []
    },
    {
      "cell_type": "markdown",
      "metadata": {
        "id": "y8WsMCMygAJN",
        "colab_type": "text"
      },
      "source": [
        "## EXTRAINDO AS CARACTERÍSTICAS"
      ]
    },
    {
      "cell_type": "code",
      "metadata": {
        "id": "HPKqNYryeRpe",
        "colab_type": "code",
        "colab": {}
      },
      "source": [
        "## Star Time\n",
        "checkpoint_time = get_time()\n",
        "\n",
        "INPUT_FILE_TEST = \"./data/test.txt\"\n",
        "OUTPUT_FILE_TEST = \"./data/svm/test.svm\"\n",
        "INPUT_FILE_TRAIN = TRAIN_FINAL\n",
        "OUTPUT_FILE_TRAIN = \"./data/svm/train.svm\"\n",
        "IMG_ROWS = 100\n",
        "IMG_COLS = 100\n",
        "DIR_DATASET = \"./data/data/\"\n",
        "\n",
        "# Train\n",
        "extract_features(INPUT_FILE_TRAIN, OUTPUT_FILE_TRAIN, IMG_ROWS, IMG_COLS, DIR_DATASET)\n",
        "\n",
        "# Test\n",
        "extract_features(INPUT_FILE_TEST, OUTPUT_FILE_TEST, IMG_ROWS, IMG_COLS, DIR_DATASET)\n",
        "\n",
        "## Execution Time\n",
        "print(f'Execution Time: {get_time_diff(checkpoint_time)}')\n",
        "\n",
        "print('EXTRAINDO AS CARACTERÍSTICAS - DONE')"
      ],
      "execution_count": null,
      "outputs": []
    },
    {
      "cell_type": "markdown",
      "metadata": {
        "id": "ihx_m47Gqt9F",
        "colab_type": "text"
      },
      "source": [
        "# IMPLEMENTANDO O SVM"
      ]
    },
    {
      "cell_type": "code",
      "metadata": {
        "id": "nvTgayxfq6aW",
        "colab_type": "code",
        "colab": {}
      },
      "source": [
        "## Star Time\n",
        "checkpoint_time = get_time()\n",
        "\n",
        "INPUT_TRAIN = \"./ml_lab3/svm/train.svm\"\n",
        "INPUT_TEST = \"./ml_lab3/svm/test.svm\"\n",
        "\n",
        "x_train, y_train = load_svmlight_file(INPUT_TRAIN)\n",
        "x_test, y_test = load_svmlight_file(INPUT_TEST)\n",
        "\n",
        "x_train = x_train.toarray()\n",
        "x_test = x_test.toarray()\n",
        "\n",
        "classificator = svm.SVC()\n",
        "classificator.fit(x_train, y_train)\n",
        "predict = classificator.predict(x_test)\n",
        "f1_score = round_float(sklearn_f1_score(y_test, predict, labels=np.unique(predict), average='weighted'))\n",
        "accuracy = round_float(accuracy_score(y_test, predict))\n",
        "cm = confusion_matrix(y_test, predict)\n",
        "\n",
        "print(f'Accuracy:  {accuracy}')\n",
        "print(f'F1Score:  {f1_score}')\n",
        "\n",
        "## Confusion Matrix\n",
        "cm = get_confusion_matrix(model, x_test, labels)\n",
        "print(f'Confusion Matrix: \\n', cm)\n",
        "plot_confusion_matrix(cm)\n",
        "\n",
        "## Execution Time\n",
        "print(f'Execution Time: {get_time_diff(checkpoint_time)}')\n",
        "\n",
        "print('IMPLEMENTANDO O SVM - DONE')"
      ],
      "execution_count": null,
      "outputs": []
    }
  ]
}