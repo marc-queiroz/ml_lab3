{
  "nbformat": 4,
  "nbformat_minor": 0,
  "metadata": {
    "kernelspec": {
      "display_name": "Python 3",
      "language": "python",
      "name": "python3"
    },
    "language_info": {
      "codemirror_mode": {
        "name": "ipython",
        "version": 3
      },
      "file_extension": ".py",
      "mimetype": "text/x-python",
      "name": "python",
      "nbconvert_exporter": "python",
      "pygments_lexer": "ipython3",
      "version": "3.6.4"
    },
    "colab": {
      "name": "simple-cnn-using-keras.ipynb",
      "provenance": [],
      "collapsed_sections": [],
      "include_colab_link": true
    },
    "accelerator": "GPU"
  },
  "cells": [
    {
      "cell_type": "markdown",
      "metadata": {
        "id": "view-in-github",
        "colab_type": "text"
      },
      "source": [
        "<a href=\"https://colab.research.google.com/github/marc-queiroz/ml_lab3/blob/master/simple_cnn_using_keras.ipynb\" target=\"_parent\"><img src=\"https://colab.research.google.com/assets/colab-badge.svg\" alt=\"Open In Colab\"/></a>"
      ]
    },
    {
      "cell_type": "markdown",
      "metadata": {
        "id": "1o7RYzjusuzn",
        "colab_type": "text"
      },
      "source": [
        "[Simple CNN using Keras](https://www.kaggle.com/frlemarchand/simple-cnn-using-keras/data)"
      ]
    },
    {
      "cell_type": "markdown",
      "metadata": {
        "id": "BbR4WqePxmSj",
        "colab_type": "text"
      },
      "source": [
        "### The goal of this kernel is to create a simple Convolution Neural Network that will allow to differentiate images that contains cacti from images that do not. While better results closer to 100% accuracy could be designed using layers from pre-trained models such as VGG16, we want to stick with a fairly simple CNN architecture and see how far we can go, and whether pre-trained layers are even needed."
      ]
    },
    {
      "cell_type": "markdown",
      "metadata": {
        "id": "k4ZkxWuN_EXy",
        "colab_type": "text"
      },
      "source": [
        "## REALIZANDO OS IMPORTS\n",
        "\n",
        "Aqui reliza-se as importações dos pacotes que serão utilizados nos experimentos."
      ]
    },
    {
      "cell_type": "code",
      "metadata": {
        "_cell_guid": "b1076dfc-b9ad-4769-8c92-a6c4dae69d19",
        "_uuid": "8f2839f25d086af736a60e9eeb907d3b93b6e0e5",
        "id": "uxcWBOsxxmSk",
        "colab_type": "code",
        "colab": {}
      },
      "source": [
        "import tensorflow as tf\n",
        "from tensorflow import keras\n",
        "\n",
        "import os\n",
        "from shutil import copyfile, move\n",
        "from tqdm import tqdm\n",
        "import h5py\n",
        "import numpy as np\n",
        "from numpy import expand_dims\n",
        "import cv2\n",
        "import matplotlib.pyplot as plt\n",
        "\n",
        "from sklearn.metrics import confusion_matrix\n",
        "from sklearn.datasets import load_svmlight_file\n",
        "from sklearn.metrics import f1_score as sklearn_f1_score\n",
        "from sklearn.metrics import accuracy_score\n",
        "from sklearn import svm\n",
        "from sklearn.metrics import plot_confusion_matrix\n",
        "\n",
        "from PIL import Image\n",
        "\n",
        "import keras\n",
        "from keras.models import Sequential\n",
        "from keras.layers import Dense, Dropout, Flatten, Activation, Conv2D, MaxPooling2D, AveragePooling2D, ZeroPadding2D, BatchNormalization\n",
        "from keras.models import Model\n",
        "from keras.regularizers import l2\n",
        "\n",
        "from keras.preprocessing import image\n",
        "from keras.preprocessing.image import load_img\n",
        "from keras.preprocessing.image import img_to_array\n",
        "from keras.preprocessing.image import ImageDataGenerator\n",
        "\n",
        "from keras.applications.inception_v3 import InceptionV3\n",
        "from keras.applications.inception_v3 import preprocess_input\n",
        "\n",
        "import os\n",
        "import time\n",
        "from datetime import datetime\n",
        "import glob\n",
        "from tempfile import mkstemp\n",
        "from shutil import move, copymode\n",
        "from os import fdopen, remove"
      ],
      "execution_count": null,
      "outputs": []
    },
    {
      "cell_type": "markdown",
      "metadata": {
        "id": "Gzjs_DxAxmSo",
        "colab_type": "text"
      },
      "source": [
        "Just a quick check to make verify Tensorflow version and whether the GPU is found."
      ]
    },
    {
      "cell_type": "code",
      "metadata": {
        "_cell_guid": "79c7e3d0-c299-4dcb-8224-4455121ee9b0",
        "_uuid": "d629ff2d2480ee46fbb7e2d37f6b5fab8052498a",
        "id": "Nda9kOgAxmSp",
        "colab_type": "code",
        "colab": {
          "base_uri": "https://localhost:8080/",
          "height": 51
        },
        "outputId": "f76e25bf-eb08-455f-ed4c-fbecfd1f3c64"
      },
      "source": [
        "print(tf.__version__)\n",
        "print(tf.config.list_physical_devices('GPU'))"
      ],
      "execution_count": null,
      "outputs": [
        {
          "output_type": "stream",
          "text": [
            "2.3.0\n",
            "[PhysicalDevice(name='/physical_device:GPU:0', device_type='GPU')]\n"
          ],
          "name": "stdout"
        }
      ]
    },
    {
      "cell_type": "markdown",
      "metadata": {
        "id": "DaxQD5tjJpXz",
        "colab_type": "text"
      },
      "source": [
        "## IMPORTANDO OS DADOS DO GITHUB"
      ]
    },
    {
      "cell_type": "code",
      "metadata": {
        "id": "Q-ET-26UQgFm",
        "colab_type": "code",
        "colab": {
          "base_uri": "https://localhost:8080/",
          "height": 153
        },
        "outputId": "54fd6074-d4f1-4663-9d13-14e1f12ec44c"
      },
      "source": [
        "!rm -rf ml_lab3/\n",
        "!git clone https://github.com/marc-queiroz/ml_lab3 ml_lab3"
      ],
      "execution_count": null,
      "outputs": [
        {
          "output_type": "stream",
          "text": [
            "Cloning into 'ml_lab3'...\n",
            "remote: Enumerating objects: 20017, done.\u001b[K\n",
            "remote: Counting objects: 100% (20017/20017), done.\u001b[K\n",
            "remote: Compressing objects: 100% (20014/20014), done.\u001b[K\n",
            "remote: Total 44273 (delta 6), reused 20010 (delta 3), pack-reused 24256\u001b[K\n",
            "Receiving objects: 100% (44273/44273), 134.44 MiB | 35.14 MiB/s, done.\n",
            "Resolving deltas: 100% (20/20), done.\n",
            "Checking out files: 100% (55128/55128), done.\n"
          ],
          "name": "stdout"
        }
      ]
    },
    {
      "cell_type": "markdown",
      "metadata": {
        "id": "04wdIy9n_661",
        "colab_type": "text"
      },
      "source": [
        "## DEFININDO AS FUNÇÕES AUXILIARES"
      ]
    },
    {
      "cell_type": "code",
      "metadata": {
        "colab_type": "code",
        "id": "vGr4XEjmD-ac",
        "colab": {
          "base_uri": "https://localhost:8080/",
          "height": 34
        },
        "outputId": "f6b6cd73-7186-4f80-9f4f-6b16a3020244"
      },
      "source": [
        "def resize_data(data, size, convert):\n",
        "\tif convert:\n",
        "\t\tdata_upscaled = np.zeros((data.shape[0], size[0], size[1], 3))\n",
        "\telse:\n",
        "\t\tdata_upscaled = np.zeros((data.shape[0], size[0], size[1]))\n",
        "\tfor i, img in enumerate(data):\n",
        "\t\tlarge_img = cv2.resize(img, dsize=(size[1], size[0]), interpolation=cv2.INTER_CUBIC)\n",
        "\t\tdata_upscaled[i] = large_img\n",
        "\treturn data_upscaled\n",
        "\n",
        "def load_images(image_paths, convert=False):\n",
        "\tx = []\n",
        "\ty = []\n",
        "\tfor image_path in image_paths:\t\t\n",
        "\t\tpath, label = image_path.split(' ')\t  \n",
        "\t\tpath= './ml_lab3/' + path\n",
        "\t\tif convert:\n",
        "\t\t\timage_pil = Image.open(path).convert('RGB') \n",
        "\t\telse:\n",
        "\t\t\timage_pil = Image.open(path).convert('L')\n",
        "\t\timg = np.array(image_pil, dtype=np.uint8)\n",
        "\t\tx.append(img)\n",
        "\t\ty.append([int(label)])\n",
        "\tx = np.array(x)\n",
        "\ty = np.array(y)\n",
        "\tif np.min(y) != 0: \n",
        "\t\ty = y-1\n",
        "\treturn x, y\n",
        "\n",
        "def load_dataset(train_file, test_file, resize, convert=False, size=(224,224)):\n",
        "\tarq = open(train_file, 'r')\n",
        "\ttexto = arq.read()\n",
        "\ttrain_paths = texto.split('\\n')\n",
        "\tprint ('Size:', size)\n",
        "\ttrain_paths.remove('')\n",
        "\ttrain_paths.sort()\n",
        "\tprint (\"Loading training set...\")\n",
        "\tx_train, y_train = load_images(train_paths, convert)\n",
        "\tarq = open(test_file, 'r')\n",
        "\ttexto = arq.read()\n",
        "\ttest_paths = texto.split('\\n')\n",
        "\ttest_paths.remove('')\n",
        "\ttest_paths.sort()\n",
        "\tprint (\"Loading testing set...\")\n",
        "\tx_test, y_test = load_images(test_paths, convert)\n",
        "\tif resize:\n",
        "\t\tprint (\"Resizing images...\")\n",
        "\t\tx_train = resize_data(x_train, size, convert)\n",
        "\t\tx_test = resize_data(x_test, size, convert)\n",
        "\tif not convert:\n",
        "\t\tx_train = x_train.reshape(x_train.shape[0], size[0], size[1], 1)\n",
        "\t\tx_test = x_test.reshape(x_test.shape[0], size[0], size[1], 1)\n",
        "\tprint (np.shape(x_train))\n",
        "\treturn (x_train, y_train), (x_test, y_test)\n",
        " \n",
        "def generate_labels(x_test, y_test):\n",
        "  labels = []\n",
        "  for i in range(len(x_test)):\n",
        "    labels.append(y_test[i][0])\n",
        "  return labels\n",
        "\n",
        "def normalize_images(x):\n",
        "  x = x.astype('float32')\n",
        "  x /= 255\n",
        "  return x\n",
        "\n",
        "def convert_vector(x, num_classes):\n",
        "  return keras.utils.to_categorical(x, num_classes)\n",
        "\n",
        "def fit_model(model, x_train, y_train, x_test, y_test, epochs, batch_size=128, verbose=1, steps_per_epoch=None):\n",
        "  return model.fit(x=x_train, y=y_train, epochs=epochs, batch_size=batch_size, validation_data=(x_test, y_test), verbose=verbose, steps_per_epoch=steps_per_epoch)\n",
        "\n",
        "def get_confusion_matrix(model, x_test, labels):\n",
        "  pred = []\n",
        "  y_pred = model.predict_classes(x_test)\n",
        "  for i in range(len(x_test)):\n",
        "    pred.append(y_pred[i])\n",
        "  return confusion_matrix(labels, pred)\n",
        "\n",
        "def plot_graphs(history, filename=None):\n",
        "\tacc = history.history['accuracy']\n",
        "\tval_acc = history.history['val_accuracy']\n",
        "\tloss = history.history['loss']\n",
        "\tval_loss = history.history['val_loss']\n",
        "\tepochs = range(len(acc))\n",
        "\tfig, (ax1, ax2) = plt.subplots(1, 2, figsize=(10,5))\n",
        "\tax1.plot(epochs, acc, 'b', label='Acurácia do treinamento')\n",
        "\tax1.plot(epochs, val_acc, 'r', label='Acurácia da validação')\n",
        "\tax1.set_title('Acurácia do treinamento e validação')\n",
        "\tax1.legend()\n",
        "\tax2.plot(epochs, loss, 'b', label='Perda do treinamento')\n",
        "\tax2.plot(epochs, val_loss, 'r', label='Perda da validação')\n",
        "\tax2.set_title('Perda do treinamento e validação')\n",
        "\tax2.legend()\n",
        "\tif (filename):\n",
        "\t\tfig.savefig(filename)\n",
        "\t\tfrom google.colab import files\n",
        "\t\tfiles.download(filename)\n",
        "\tplt.show()\n",
        "\n",
        "def extract_features(input_file, output_file, img_rows, img_cols, dir_dataset):\n",
        "\tfile_input = open (input_file, 'r')\n",
        "\tinput = file_input.readlines()\n",
        "\tfile_input.close()\n",
        "\toutput = open(output_file, 'w')\n",
        "\tmodel = InceptionV3(weights='imagenet', include_top=False)\n",
        "\tfor i in input:\n",
        "\t\tsample_name, sample_class = i.split()\n",
        "\t\timg_path = dir_dataset + sample_name\n",
        "\t\tprint(img_path)\n",
        "\t\timg = image.load_img(img_path, target_size=(img_rows,img_cols))\n",
        "\t\timg_data = image.img_to_array(img)\n",
        "\t\timg_data = np.expand_dims(img_data, axis=0)\n",
        "\t\timg_data = preprocess_input(img_data)\n",
        "\t\tinception_features = model.predict(img_data)\n",
        "\t\tfeatures_np = np.array(inception_features)\n",
        "\t\tfeatures_np = features_np.flatten()\n",
        "\t\toutput.write(sample_class+' ')\n",
        "\t\tfor j in range (features_np.size):\n",
        "\t\t\toutput.write(str(j+1)+':'+str(features_np[j])+' ')\n",
        "\t\toutput.write('\\n')\n",
        "\tprint(features_np.size)\n",
        "\toutput.close()\n",
        " \n",
        "def round_float(value):\n",
        "\treturn float(\"{:.3f}\".format(value))\n",
        " \n",
        "def get_time():\n",
        "    return time.time()\n",
        "\n",
        "def get_time_diff(start_time):\n",
        "    end_time = time.time()\n",
        "    return round_float(end_time - start_time)\n",
        "\n",
        "def plot_confusion_matrix(cm, filename=None):\n",
        "\tfig = plt.figure(figsize=(10,10))\n",
        "\tax = fig.add_subplot(111)\n",
        "\tcax = ax.matshow(cm)\n",
        "\tfor (x, y), value in np.ndenumerate(cm):\n",
        "\t\tplt.text(x, y, f\"{value:.0f}\", va=\"center\", ha=\"center\")\n",
        "\tplt.title('Matriz de Confusão')\n",
        "\tfig.colorbar(cax)\n",
        "\tplt.xlabel('Predicted')\n",
        "\tplt.ylabel('True')\n",
        "\tif (filename):\n",
        "\t\tfig.savefig(filename)\n",
        "\t\tfrom google.colab import files\n",
        "\t\tfiles.download(filename)\n",
        "\tplt.show()\n",
        "\n",
        "print('DEFININDO AS FUNÇÕES DE PREPARAÇÃO DE DADOS - DONE', datetime.now())\n"
      ],
      "execution_count": null,
      "outputs": [
        {
          "output_type": "stream",
          "text": [
            "DEFININDO AS FUNÇÕES DE PREPARAÇÃO DE DADOS - DONE 2020-09-06 16:18:33.071990\n"
          ],
          "name": "stdout"
        }
      ]
    },
    {
      "cell_type": "markdown",
      "metadata": {
        "id": "LMdpKEOUxmSt",
        "colab_type": "text"
      },
      "source": [
        "# Prepare the data"
      ]
    },
    {
      "cell_type": "code",
      "metadata": {
        "id": "SNqZINh7xmS5",
        "colab_type": "code",
        "colab": {}
      },
      "source": [
        "from tensorflow.keras.models import Sequential\n",
        "from tensorflow.keras.layers import InputLayer, Input\n",
        "from tensorflow.keras.layers import Conv2D, Dense, Flatten, Dropout, Activation\n",
        "from tensorflow.keras.layers import BatchNormalization, Reshape, MaxPooling2D, GlobalAveragePooling2D\n",
        "from tensorflow.keras.preprocessing.image import ImageDataGenerator\n",
        "from tensorflow.keras.callbacks import EarlyStopping, ModelCheckpoint"
      ],
      "execution_count": null,
      "outputs": []
    },
    {
      "cell_type": "markdown",
      "metadata": {
        "id": "5AASh86PB2J-",
        "colab_type": "text"
      },
      "source": [
        "## Load data"
      ]
    },
    {
      "cell_type": "code",
      "metadata": {
        "id": "ykl0sbD8_r54",
        "colab_type": "code",
        "colab": {}
      },
      "source": [
        "TRAIN_FILE = \"./ml_lab3/train.txt\"\n",
        "TEST_FILE = \"./ml_lab3/test.txt\""
      ],
      "execution_count": null,
      "outputs": []
    },
    {
      "cell_type": "markdown",
      "metadata": {
        "id": "1KQOyDjNxmS_",
        "colab_type": "text"
      },
      "source": [
        "# Model Creation: Convolutional Neural Network"
      ]
    },
    {
      "cell_type": "markdown",
      "metadata": {
        "id": "o5KL4CW-xmS_",
        "colab_type": "text"
      },
      "source": [
        "Some really insightful comments about deep learning model optimization can be found here (https://karpathy.github.io/2019/04/25/recipe/ ). "
      ]
    },
    {
      "cell_type": "code",
      "metadata": {
        "id": "XCzgt7IqxmTA",
        "colab_type": "code",
        "colab": {}
      },
      "source": [
        "def cnn_model(img_rows, img_cols, num_classes):\n",
        "  dropout_dense_layer = 0.6\n",
        "\n",
        "  model = Sequential()\n",
        "  model.add(Conv2D(32, (3, 3), input_shape=(img_rows, img_cols, 3)))\n",
        "  model.add(BatchNormalization())\n",
        "  model.add(Activation('relu'))\n",
        "  model.add(Conv2D(32, (3, 3)))\n",
        "  model.add(BatchNormalization())\n",
        "  model.add(Activation('relu'))\n",
        "  model.add(Conv2D(32, (3, 3)))\n",
        "  model.add(BatchNormalization())\n",
        "  model.add(Activation('relu'))\n",
        "  model.add(MaxPooling2D(pool_size=(2, 2)))\n",
        "\n",
        "  model.add(Conv2D(64, (3, 3)))\n",
        "  model.add(BatchNormalization())\n",
        "  model.add(Activation('relu'))\n",
        "  model.add(Conv2D(64, (3, 3)))\n",
        "  model.add(BatchNormalization())\n",
        "  model.add(Activation('relu'))\n",
        "  model.add(Conv2D(64, (3, 3)))\n",
        "  model.add(BatchNormalization())\n",
        "  model.add(Activation('relu'))\n",
        "  model.add(MaxPooling2D(pool_size=(2, 2)))\n",
        "\n",
        "  model.add(Conv2D(128, (3, 3)))\n",
        "  model.add(BatchNormalization())\n",
        "  model.add(Activation('relu'))\n",
        "\n",
        "  model.add(Flatten())\n",
        "  model.add(Dense(1024))\n",
        "  model.add(Activation('relu'))\n",
        "  model.add(Dropout(dropout_dense_layer))\n",
        "\n",
        "  model.add(Dense(256))\n",
        "  model.add(Activation('relu'))\n",
        "  model.add(Dropout(dropout_dense_layer))\n",
        "\n",
        "  model.add(Dense(num_classes))\n",
        "  model.add(Activation('sigmoid'))\n",
        "  return model"
      ],
      "execution_count": null,
      "outputs": []
    },
    {
      "cell_type": "markdown",
      "metadata": {
        "id": "PivHOziNxmTI",
        "colab_type": "text"
      },
      "source": [
        "# Treino e validação\n"
      ]
    },
    {
      "cell_type": "code",
      "metadata": {
        "id": "Hn0oNnxECfCj",
        "colab_type": "code",
        "colab": {
          "base_uri": "https://localhost:8080/",
          "height": 1000
        },
        "outputId": "a2056067-32fb-41af-f81f-f69cf03a0e04"
      },
      "source": [
        "## Definitions\n",
        "NUM_CLASSES = 12\n",
        "IMG_ROWS = 48\n",
        "IMG_COLS = 48\n",
        "BATCH_SIZE = 128\n",
        "epochs = 160\n",
        "\n",
        "## Loading Initial Data\n",
        "(x_train, y_train), (x_test, y_test) = load_dataset(TRAIN_FILE, TEST_FILE, resize=True, convert=True, size=(IMG_ROWS, IMG_COLS))\n",
        "\n",
        "# Normalize images\n",
        "x_train = normalize_images(x_train)\n",
        "x_test = normalize_images(x_test)\n",
        "\n",
        "## Generating Labels for Confusion Matrix\n",
        "labels = generate_labels(x_test, y_test)\n",
        "\n",
        "## Convert class vectros to binary class matrices\n",
        "y_train = convert_vector(y_train, NUM_CLASSES)\n",
        "y_test = convert_vector(y_test, NUM_CLASSES)\n",
        "\n",
        "model = cnn_model(IMG_ROWS, IMG_COLS, NUM_CLASSES)\n",
        "model.compile(loss=keras.losses.categorical_crossentropy,\n",
        "              optimizer=keras.optimizers.Adam(lr=0.001),\n",
        "              metrics=['accuracy'])\n",
        "callbacks = [EarlyStopping(monitor='val_loss', patience=25),\n",
        "             ModelCheckpoint(filepath='best_model.h5', monitor='val_loss', save_best_only=True)]\n",
        "## Star Time\n",
        "checkpoint_time = get_time()\n",
        "history = model.fit(x=x_train, y=y_train, \n",
        "                    epochs=epochs, batch_size=BATCH_SIZE, validation_data=(x_test, y_test), \n",
        "                    callbacks=callbacks, shuffle=True, verbose=0)\n",
        "\n",
        "## Getting Score\n",
        "score = model.evaluate(x_test, y_test, verbose=0)\n",
        "\n",
        "## Loss\n",
        "print('Loss:', score[0])\n",
        "\n",
        "## Accuracy\n",
        "print('Accuracy:', score[1])\n",
        "\n",
        "## Execution Time\n",
        "print(f'Execution Time: {get_time_diff(checkpoint_time)}')\n",
        "\n",
        "## Confusion Matrix\n",
        "cm = get_confusion_matrix(model, x_test, labels)\n",
        "print(f'Confusion Matrix: \\n', cm)\n",
        "plot_confusion_matrix(cm, 'cm_simple_cnn.pdf')\n",
        "# plot_confusion_matrix(cm)\n",
        "\n",
        "## Graphs\n",
        "plot_graphs(history, 'history_simple_cnn.pdf')\n",
        "# plot_graphs(history)\n",
        "\n",
        "print('DONE')\n"
      ],
      "execution_count": null,
      "outputs": [
        {
          "output_type": "stream",
          "text": [
            "Size: (48, 48)\n",
            "Loading training set...\n",
            "Loading testing set...\n",
            "Resizing images...\n",
            "(1578, 48, 48, 3)\n",
            "Loss: 0.7717452049255371\n",
            "Accuracy: 0.8728179335594177\n",
            "Execution Time: 38.632\n",
            "WARNING:tensorflow:From <ipython-input-5-ae88b2f53f8d>:75: Sequential.predict_classes (from tensorflow.python.keras.engine.sequential) is deprecated and will be removed after 2021-01-01.\n",
            "Instructions for updating:\n",
            "Please use instead:* `np.argmax(model.predict(x), axis=-1)`,   if your model does multi-class classification   (e.g. if it uses a `softmax` last-layer activation).* `(model.predict(x) > 0.5).astype(\"int32\")`,   if your model does binary classification   (e.g. if it uses a `sigmoid` last-layer activation).\n",
            "Confusion Matrix: \n",
            " [[34  1  1  0  2  1  0  0  0  0  0  0]\n",
            " [ 3 25  2  0  0  0  0  1  0  0  1  0]\n",
            " [ 0  0 34  0  1  0  1  0  0  0  0  0]\n",
            " [ 0  0  0 36  2  0  0  1  0  0  0  0]\n",
            " [ 0  0  0  8 30  0  0  0  0  0  0  0]\n",
            " [ 0  0  0  0  0 27  2  0  0  0  0  0]\n",
            " [ 0  0  0  0  0  0 32  0  0  0  0  0]\n",
            " [ 0  0  0  0  0  3  0 25  0  0  0  0]\n",
            " [ 0  0  1  1  0  0  0  0 25  2  2  0]\n",
            " [ 0  0  0  0  0  0  0  0  0 30  0  0]\n",
            " [ 0  0  0  0  0  0  0  0  1  0 32  1]\n",
            " [ 0  0  0  0  0  5  0  2  2  0  4 20]]\n"
          ],
          "name": "stdout"
        },
        {
          "output_type": "display_data",
          "data": {
            "application/javascript": [
              "\n",
              "    async function download(id, filename, size) {\n",
              "      if (!google.colab.kernel.accessAllowed) {\n",
              "        return;\n",
              "      }\n",
              "      const div = document.createElement('div');\n",
              "      const label = document.createElement('label');\n",
              "      label.textContent = `Downloading \"${filename}\": `;\n",
              "      div.appendChild(label);\n",
              "      const progress = document.createElement('progress');\n",
              "      progress.max = size;\n",
              "      div.appendChild(progress);\n",
              "      document.body.appendChild(div);\n",
              "\n",
              "      const buffers = [];\n",
              "      let downloaded = 0;\n",
              "\n",
              "      const channel = await google.colab.kernel.comms.open(id);\n",
              "      // Send a message to notify the kernel that we're ready.\n",
              "      channel.send({})\n",
              "\n",
              "      for await (const message of channel.messages) {\n",
              "        // Send a message to notify the kernel that we're ready.\n",
              "        channel.send({})\n",
              "        if (message.buffers) {\n",
              "          for (const buffer of message.buffers) {\n",
              "            buffers.push(buffer);\n",
              "            downloaded += buffer.byteLength;\n",
              "            progress.value = downloaded;\n",
              "          }\n",
              "        }\n",
              "      }\n",
              "      const blob = new Blob(buffers, {type: 'application/binary'});\n",
              "      const a = document.createElement('a');\n",
              "      a.href = window.URL.createObjectURL(blob);\n",
              "      a.download = filename;\n",
              "      div.appendChild(a);\n",
              "      a.click();\n",
              "      div.remove();\n",
              "    }\n",
              "  "
            ],
            "text/plain": [
              "<IPython.core.display.Javascript object>"
            ]
          },
          "metadata": {
            "tags": []
          }
        },
        {
          "output_type": "display_data",
          "data": {
            "application/javascript": [
              "download(\"download_3213622c-289a-4bab-a95c-3acceb9a3fcb\", \"cm_simple_cnn.pdf\", 16140)"
            ],
            "text/plain": [
              "<IPython.core.display.Javascript object>"
            ]
          },
          "metadata": {
            "tags": []
          }
        },
        {
          "output_type": "display_data",
          "data": {
            "image/png": "[encoded data removed]",
            "text/plain": [
              "<Figure size 720x720 with 2 Axes>"
            ]
          },
          "metadata": {
            "tags": [],
            "needs_background": "light"
          }
        },
        {
          "output_type": "display_data",
          "data": {
            "application/javascript": [
              "\n",
              "    async function download(id, filename, size) {\n",
              "      if (!google.colab.kernel.accessAllowed) {\n",
              "        return;\n",
              "      }\n",
              "      const div = document.createElement('div');\n",
              "      const label = document.createElement('label');\n",
              "      label.textContent = `Downloading \"${filename}\": `;\n",
              "      div.appendChild(label);\n",
              "      const progress = document.createElement('progress');\n",
              "      progress.max = size;\n",
              "      div.appendChild(progress);\n",
              "      document.body.appendChild(div);\n",
              "\n",
              "      const buffers = [];\n",
              "      let downloaded = 0;\n",
              "\n",
              "      const channel = await google.colab.kernel.comms.open(id);\n",
              "      // Send a message to notify the kernel that we're ready.\n",
              "      channel.send({})\n",
              "\n",
              "      for await (const message of channel.messages) {\n",
              "        // Send a message to notify the kernel that we're ready.\n",
              "        channel.send({})\n",
              "        if (message.buffers) {\n",
              "          for (const buffer of message.buffers) {\n",
              "            buffers.push(buffer);\n",
              "            downloaded += buffer.byteLength;\n",
              "            progress.value = downloaded;\n",
              "          }\n",
              "        }\n",
              "      }\n",
              "      const blob = new Blob(buffers, {type: 'application/binary'});\n",
              "      const a = document.createElement('a');\n",
              "      a.href = window.URL.createObjectURL(blob);\n",
              "      a.download = filename;\n",
              "      div.appendChild(a);\n",
              "      a.click();\n",
              "      div.remove();\n",
              "    }\n",
              "  "
            ],
            "text/plain": [
              "<IPython.core.display.Javascript object>"
            ]
          },
          "metadata": {
            "tags": []
          }
        },
        {
          "output_type": "display_data",
          "data": {
            "application/javascript": [
              "download(\"download_d27fb2f9-1c3e-4d0d-99f3-8f7082d51d7c\", \"history_simple_cnn.pdf\", 15808)"
            ],
            "text/plain": [
              "<IPython.core.display.Javascript object>"
            ]
          },
          "metadata": {
            "tags": []
          }
        },
        {
          "output_type": "display_data",
          "data": {
            "image/png": "[encoded data removed]",
            "text/plain": [
              "<Figure size 720x360 with 2 Axes>"
            ]
          },
          "metadata": {
            "tags": [],
            "needs_background": "light"
          }
        },
        {
          "output_type": "stream",
          "text": [
            "DONE\n"
          ],
          "name": "stdout"
        }
      ]
    },
    {
      "cell_type": "markdown",
      "metadata": {
        "id": "SSB4kWlAx9BJ",
        "colab_type": "text"
      },
      "source": [
        "## Preparação para testes com dados augumentados\n"
      ]
    },
    {
      "cell_type": "code",
      "metadata": {
        "id": "vj9hxuBpyAsF",
        "colab_type": "code",
        "colab": {
          "base_uri": "https://localhost:8080/",
          "height": 34
        },
        "outputId": "1cd3adbf-3f54-4e2f-9c2a-735f22bb971c"
      },
      "source": [
        "import shutil\n",
        "\n",
        "TRAIN_AUG_FILE = './ml_lab3/train-aug.txt'\n",
        "TRAIN_FINAL = './ml_lab3/train-final.txt'\n",
        "\n",
        "def mergeTrainFiles():\n",
        "  filenames = [TRAIN_FILE, TRAIN_AUG_FILE]\n",
        "  with open(TRAIN_FINAL, 'w') as outfile:\n",
        "      for fname in filenames:\n",
        "          with open(fname) as infile:\n",
        "              for line in infile:\n",
        "                  outfile.write(line)\n",
        "\n",
        "mergeTrainFiles()\n",
        "\n",
        "print('Preparando o arquivo de treino - DONE')"
      ],
      "execution_count": null,
      "outputs": [
        {
          "output_type": "stream",
          "text": [
            "Preparando o arquivo de treino - DONE\n"
          ],
          "name": "stdout"
        }
      ]
    },
    {
      "cell_type": "code",
      "metadata": {
        "colab_type": "code",
        "id": "WoqWLVSkAG5W",
        "colab": {
          "base_uri": "https://localhost:8080/",
          "height": 1000
        },
        "outputId": "94f947d4-7d9a-442f-bf46-bb784d3019fb"
      },
      "source": [
        "## Definitions\n",
        "NUM_CLASSES = 12\n",
        "IMG_ROWS = 48\n",
        "IMG_COLS = 48\n",
        "BATCH_SIZE = 64\n",
        "epochs = 160\n",
        "\n",
        "## Loading Initial Data\n",
        "(x_train, y_train), (x_test, y_test) = load_dataset(TRAIN_FINAL, TEST_FILE, resize=True, convert=True, size=(IMG_ROWS, IMG_COLS))\n",
        "\n",
        "# Normalize images\n",
        "x_train = normalize_images(x_train)\n",
        "x_test = normalize_images(x_test)\n",
        "\n",
        "## Generating Labels for Confusion Matrix\n",
        "labels = generate_labels(x_test, y_test)\n",
        "\n",
        "## Convert class vectros to binary class matrices\n",
        "y_train = convert_vector(y_train, NUM_CLASSES)\n",
        "y_test = convert_vector(y_test, NUM_CLASSES)\n",
        "\n",
        "model = cnn_model(IMG_ROWS, IMG_COLS, NUM_CLASSES)\n",
        "model.compile(loss=keras.losses.categorical_crossentropy,\n",
        "              optimizer=keras.optimizers.Adam(lr=0.001),\n",
        "              metrics=['accuracy'])\n",
        "callbacks = [EarlyStopping(monitor='val_loss', patience=25),\n",
        "             ModelCheckpoint(filepath='best_model.h5', monitor='val_loss', save_best_only=True)]\n",
        "## Star Time\n",
        "checkpoint_time = get_time()\n",
        "history = model.fit(x=x_train, y=y_train, \n",
        "                    epochs=epochs, batch_size=BATCH_SIZE, validation_data=(x_test, y_test), \n",
        "                    callbacks=callbacks, shuffle=True, verbose=1)\n",
        "\n",
        "## Getting Score\n",
        "score = model.evaluate(x_test, y_test, verbose=0)\n",
        "\n",
        "## Loss\n",
        "print('Loss:', score[0])\n",
        "\n",
        "## Accuracy\n",
        "print('Accuracy:', score[1])\n",
        "\n",
        "## Execution Time\n",
        "print(f'Execution Time: {get_time_diff(checkpoint_time)}')\n",
        "\n",
        "## Confusion Matrix\n",
        "cm = get_confusion_matrix(model, x_test, labels)\n",
        "print(f'Confusion Matrix: \\n', cm)\n",
        "plot_confusion_matrix(cm, 'cm_simple_cnn.pdf')\n",
        "# plot_confusion_matrix(cm)\n",
        "\n",
        "## Graphs\n",
        "plot_graphs(history, 'history_simple_cnn.pdf')\n",
        "# plot_graphs(history)\n",
        "\n",
        "print('DONE')\n"
      ],
      "execution_count": null,
      "outputs": [
        {
          "output_type": "stream",
          "text": [
            "Size: (48, 48)\n",
            "Loading training set...\n",
            "Loading testing set...\n",
            "Resizing images...\n",
            "(37358, 48, 48, 3)\n",
            "Epoch 1/160\n",
            "584/584 [==============================] - 11s 18ms/step - loss: 2.2772 - accuracy: 0.1894 - val_loss: 3.8541 - val_accuracy: 0.1272\n",
            "Epoch 2/160\n",
            "584/584 [==============================] - 10s 17ms/step - loss: 1.3004 - accuracy: 0.5678 - val_loss: 5.7185 - val_accuracy: 0.2818\n",
            "Epoch 3/160\n",
            "584/584 [==============================] - 10s 18ms/step - loss: 0.7954 - accuracy: 0.7466 - val_loss: 1.2034 - val_accuracy: 0.6559\n",
            "Epoch 4/160\n",
            "584/584 [==============================] - 10s 18ms/step - loss: 0.6192 - accuracy: 0.8059 - val_loss: 0.7568 - val_accuracy: 0.7456\n",
            "Epoch 5/160\n",
            "584/584 [==============================] - 10s 18ms/step - loss: 0.5193 - accuracy: 0.8380 - val_loss: 0.4747 - val_accuracy: 0.8504\n",
            "Epoch 6/160\n",
            "584/584 [==============================] - 10s 18ms/step - loss: 0.4461 - accuracy: 0.8616 - val_loss: 0.5118 - val_accuracy: 0.8554\n",
            "Epoch 7/160\n",
            "584/584 [==============================] - 11s 18ms/step - loss: 0.3887 - accuracy: 0.8765 - val_loss: 0.6938 - val_accuracy: 0.8080\n",
            "Epoch 8/160\n",
            "584/584 [==============================] - 10s 18ms/step - loss: 0.3573 - accuracy: 0.8903 - val_loss: 0.9264 - val_accuracy: 0.7282\n",
            "Epoch 9/160\n",
            "584/584 [==============================] - 10s 18ms/step - loss: 0.3129 - accuracy: 0.9020 - val_loss: 0.5436 - val_accuracy: 0.8229\n",
            "Epoch 10/160\n",
            "584/584 [==============================] - 10s 18ms/step - loss: 0.2785 - accuracy: 0.9135 - val_loss: 0.3401 - val_accuracy: 0.9027\n",
            "Epoch 11/160\n",
            "584/584 [==============================] - 10s 18ms/step - loss: 0.2500 - accuracy: 0.9212 - val_loss: 0.5112 - val_accuracy: 0.8554\n",
            "Epoch 12/160\n",
            "584/584 [==============================] - 10s 18ms/step - loss: 0.2341 - accuracy: 0.9261 - val_loss: 0.5284 - val_accuracy: 0.8778\n",
            "Epoch 13/160\n",
            "584/584 [==============================] - 10s 17ms/step - loss: 0.2140 - accuracy: 0.9337 - val_loss: 0.5195 - val_accuracy: 0.8603\n",
            "Epoch 14/160\n",
            "584/584 [==============================] - 10s 18ms/step - loss: 0.1902 - accuracy: 0.9403 - val_loss: 1.3817 - val_accuracy: 0.7830\n",
            "Epoch 15/160\n",
            "584/584 [==============================] - 10s 18ms/step - loss: 0.1785 - accuracy: 0.9442 - val_loss: 0.8212 - val_accuracy: 0.8329\n",
            "Epoch 16/160\n",
            "584/584 [==============================] - 10s 18ms/step - loss: 0.1687 - accuracy: 0.9481 - val_loss: 0.8101 - val_accuracy: 0.8579\n",
            "Epoch 17/160\n",
            "584/584 [==============================] - 10s 18ms/step - loss: 0.1531 - accuracy: 0.9522 - val_loss: 0.6997 - val_accuracy: 0.8678\n",
            "Epoch 18/160\n",
            "584/584 [==============================] - 10s 18ms/step - loss: 0.1401 - accuracy: 0.9575 - val_loss: 0.4174 - val_accuracy: 0.9202\n",
            "Epoch 19/160\n",
            "584/584 [==============================] - 10s 18ms/step - loss: 0.1389 - accuracy: 0.9571 - val_loss: 0.9625 - val_accuracy: 0.7955\n",
            "Epoch 20/160\n",
            "584/584 [==============================] - 10s 18ms/step - loss: 0.1248 - accuracy: 0.9614 - val_loss: 0.1928 - val_accuracy: 0.9401\n",
            "Epoch 21/160\n",
            "584/584 [==============================] - 10s 18ms/step - loss: 0.1194 - accuracy: 0.9637 - val_loss: 0.2378 - val_accuracy: 0.9377\n",
            "Epoch 22/160\n",
            "584/584 [==============================] - 10s 18ms/step - loss: 0.1173 - accuracy: 0.9643 - val_loss: 0.3704 - val_accuracy: 0.9252\n",
            "Epoch 23/160\n",
            "584/584 [==============================] - 10s 18ms/step - loss: 0.1030 - accuracy: 0.9681 - val_loss: 0.4006 - val_accuracy: 0.9127\n",
            "Epoch 24/160\n",
            "584/584 [==============================] - 10s 18ms/step - loss: 0.0990 - accuracy: 0.9700 - val_loss: 0.3007 - val_accuracy: 0.9302\n",
            "Epoch 25/160\n",
            "584/584 [==============================] - 10s 18ms/step - loss: 0.0985 - accuracy: 0.9702 - val_loss: 0.5959 - val_accuracy: 0.8928\n",
            "Epoch 26/160\n",
            "584/584 [==============================] - 10s 18ms/step - loss: 0.0891 - accuracy: 0.9738 - val_loss: 0.2666 - val_accuracy: 0.9401\n",
            "Epoch 27/160\n",
            "584/584 [==============================] - 10s 18ms/step - loss: 0.0930 - accuracy: 0.9730 - val_loss: 0.3310 - val_accuracy: 0.9352\n",
            "Epoch 28/160\n",
            "584/584 [==============================] - 10s 18ms/step - loss: 0.0888 - accuracy: 0.9736 - val_loss: 0.4081 - val_accuracy: 0.9277\n",
            "Epoch 29/160\n",
            "584/584 [==============================] - 10s 18ms/step - loss: 0.0808 - accuracy: 0.9764 - val_loss: 1.0393 - val_accuracy: 0.8703\n",
            "Epoch 30/160\n",
            "584/584 [==============================] - 10s 18ms/step - loss: 0.0824 - accuracy: 0.9756 - val_loss: 0.5255 - val_accuracy: 0.9127\n",
            "Epoch 31/160\n",
            "584/584 [==============================] - 10s 18ms/step - loss: 0.0791 - accuracy: 0.9764 - val_loss: 0.3003 - val_accuracy: 0.9352\n",
            "Epoch 32/160\n",
            "584/584 [==============================] - 10s 18ms/step - loss: 0.0693 - accuracy: 0.9793 - val_loss: 0.5575 - val_accuracy: 0.8753\n",
            "Epoch 33/160\n",
            "584/584 [==============================] - 10s 18ms/step - loss: 0.0720 - accuracy: 0.9799 - val_loss: 0.3979 - val_accuracy: 0.9177\n",
            "Epoch 34/160\n",
            "584/584 [==============================] - 10s 18ms/step - loss: 0.0718 - accuracy: 0.9802 - val_loss: 0.7731 - val_accuracy: 0.9102\n",
            "Epoch 35/160\n",
            "584/584 [==============================] - 10s 18ms/step - loss: 0.0685 - accuracy: 0.9813 - val_loss: 0.8057 - val_accuracy: 0.8554\n",
            "Epoch 36/160\n",
            "584/584 [==============================] - 10s 18ms/step - loss: 0.0677 - accuracy: 0.9807 - val_loss: 0.4702 - val_accuracy: 0.9152\n",
            "Epoch 37/160\n",
            "584/584 [==============================] - 11s 18ms/step - loss: 0.0633 - accuracy: 0.9814 - val_loss: 0.7773 - val_accuracy: 0.8928\n",
            "Epoch 38/160\n",
            "584/584 [==============================] - 10s 18ms/step - loss: 0.0597 - accuracy: 0.9825 - val_loss: 0.3775 - val_accuracy: 0.9252\n",
            "Epoch 39/160\n",
            "584/584 [==============================] - 10s 18ms/step - loss: 0.0631 - accuracy: 0.9825 - val_loss: 0.7398 - val_accuracy: 0.8728\n",
            "Epoch 40/160\n",
            "584/584 [==============================] - 10s 17ms/step - loss: 0.0596 - accuracy: 0.9840 - val_loss: 0.6823 - val_accuracy: 0.8529\n",
            "Epoch 41/160\n",
            "584/584 [==============================] - 10s 17ms/step - loss: 0.0545 - accuracy: 0.9850 - val_loss: 0.5181 - val_accuracy: 0.9277\n",
            "Epoch 42/160\n",
            "584/584 [==============================] - 10s 17ms/step - loss: 0.0672 - accuracy: 0.9824 - val_loss: 0.5172 - val_accuracy: 0.9177\n",
            "Epoch 43/160\n",
            "584/584 [==============================] - 10s 18ms/step - loss: 0.0567 - accuracy: 0.9850 - val_loss: 0.5257 - val_accuracy: 0.9177\n",
            "Epoch 44/160\n",
            "584/584 [==============================] - 10s 17ms/step - loss: 0.0577 - accuracy: 0.9846 - val_loss: 0.7484 - val_accuracy: 0.8504\n",
            "Epoch 45/160\n",
            "584/584 [==============================] - 10s 17ms/step - loss: 0.0537 - accuracy: 0.9854 - val_loss: 0.6058 - val_accuracy: 0.8953\n",
            "Loss: 0.6058188080787659\n",
            "Accuracy: 0.895261824131012\n",
            "Execution Time: 465.779\n",
            "Confusion Matrix: \n",
            " [[30  5  0  0  0  1  3  0  0  0  0  0]\n",
            " [ 1 27  0  0  0  0  0  0  0  0  2  2]\n",
            " [ 0  0 33  0  1  0  0  2  0  0  0  0]\n",
            " [ 0  0  1 35  2  0  1  0  0  0  0  0]\n",
            " [ 0  0  1  5 31  0  1  0  0  0  0  0]\n",
            " [ 0  0  0  0  0 26  3  0  0  0  0  0]\n",
            " [ 0  0  0  0  0  0 32  0  0  0  0  0]\n",
            " [ 0  0  0  0  0  0  0 28  0  0  0  0]\n",
            " [ 0  0  0  0  0  0  0  0 27  0  0  4]\n",
            " [ 0  0  0  0  0  0  0  0  0 30  0  0]\n",
            " [ 0  0  0  0  0  0  0  0  1  0 33  0]\n",
            " [ 0  0  0  0  0  0  0  2  2  1  1 27]]\n"
          ],
          "name": "stdout"
        },
        {
          "output_type": "display_data",
          "data": {
            "application/javascript": [
              "\n",
              "    async function download(id, filename, size) {\n",
              "      if (!google.colab.kernel.accessAllowed) {\n",
              "        return;\n",
              "      }\n",
              "      const div = document.createElement('div');\n",
              "      const label = document.createElement('label');\n",
              "      label.textContent = `Downloading \"${filename}\": `;\n",
              "      div.appendChild(label);\n",
              "      const progress = document.createElement('progress');\n",
              "      progress.max = size;\n",
              "      div.appendChild(progress);\n",
              "      document.body.appendChild(div);\n",
              "\n",
              "      const buffers = [];\n",
              "      let downloaded = 0;\n",
              "\n",
              "      const channel = await google.colab.kernel.comms.open(id);\n",
              "      // Send a message to notify the kernel that we're ready.\n",
              "      channel.send({})\n",
              "\n",
              "      for await (const message of channel.messages) {\n",
              "        // Send a message to notify the kernel that we're ready.\n",
              "        channel.send({})\n",
              "        if (message.buffers) {\n",
              "          for (const buffer of message.buffers) {\n",
              "            buffers.push(buffer);\n",
              "            downloaded += buffer.byteLength;\n",
              "            progress.value = downloaded;\n",
              "          }\n",
              "        }\n",
              "      }\n",
              "      const blob = new Blob(buffers, {type: 'application/binary'});\n",
              "      const a = document.createElement('a');\n",
              "      a.href = window.URL.createObjectURL(blob);\n",
              "      a.download = filename;\n",
              "      div.appendChild(a);\n",
              "      a.click();\n",
              "      div.remove();\n",
              "    }\n",
              "  "
            ],
            "text/plain": [
              "<IPython.core.display.Javascript object>"
            ]
          },
          "metadata": {
            "tags": []
          }
        },
        {
          "output_type": "display_data",
          "data": {
            "application/javascript": [
              "download(\"download_224cfe8c-b527-46c8-8a55-bc565aee31bb\", \"cm_simple_cnn.pdf\", 16136)"
            ],
            "text/plain": [
              "<IPython.core.display.Javascript object>"
            ]
          },
          "metadata": {
            "tags": []
          }
        },
        {
          "output_type": "display_data",
          "data": {
            "image/png": "[encoded data removed]",
            "text/plain": [
              "<Figure size 720x720 with 2 Axes>"
            ]
          },
          "metadata": {
            "tags": [],
            "needs_background": "light"
          }
        },
        {
          "output_type": "display_data",
          "data": {
            "application/javascript": [
              "\n",
              "    async function download(id, filename, size) {\n",
              "      if (!google.colab.kernel.accessAllowed) {\n",
              "        return;\n",
              "      }\n",
              "      const div = document.createElement('div');\n",
              "      const label = document.createElement('label');\n",
              "      label.textContent = `Downloading \"${filename}\": `;\n",
              "      div.appendChild(label);\n",
              "      const progress = document.createElement('progress');\n",
              "      progress.max = size;\n",
              "      div.appendChild(progress);\n",
              "      document.body.appendChild(div);\n",
              "\n",
              "      const buffers = [];\n",
              "      let downloaded = 0;\n",
              "\n",
              "      const channel = await google.colab.kernel.comms.open(id);\n",
              "      // Send a message to notify the kernel that we're ready.\n",
              "      channel.send({})\n",
              "\n",
              "      for await (const message of channel.messages) {\n",
              "        // Send a message to notify the kernel that we're ready.\n",
              "        channel.send({})\n",
              "        if (message.buffers) {\n",
              "          for (const buffer of message.buffers) {\n",
              "            buffers.push(buffer);\n",
              "            downloaded += buffer.byteLength;\n",
              "            progress.value = downloaded;\n",
              "          }\n",
              "        }\n",
              "      }\n",
              "      const blob = new Blob(buffers, {type: 'application/binary'});\n",
              "      const a = document.createElement('a');\n",
              "      a.href = window.URL.createObjectURL(blob);\n",
              "      a.download = filename;\n",
              "      div.appendChild(a);\n",
              "      a.click();\n",
              "      div.remove();\n",
              "    }\n",
              "  "
            ],
            "text/plain": [
              "<IPython.core.display.Javascript object>"
            ]
          },
          "metadata": {
            "tags": []
          }
        },
        {
          "output_type": "display_data",
          "data": {
            "application/javascript": [
              "download(\"download_69e6931c-4990-4d44-92e0-5e59565c52ea\", \"history_simple_cnn.pdf\", 14850)"
            ],
            "text/plain": [
              "<IPython.core.display.Javascript object>"
            ]
          },
          "metadata": {
            "tags": []
          }
        },
        {
          "output_type": "display_data",
          "data": {
            "image/png": "[encoded data removed]",
            "text/plain": [
              "<Figure size 720x360 with 2 Axes>"
            ]
          },
          "metadata": {
            "tags": [],
            "needs_background": "light"
          }
        },
        {
          "output_type": "stream",
          "text": [
            "DONE\n"
          ],
          "name": "stdout"
        }
      ]
    },
    {
      "cell_type": "code",
      "metadata": {
        "id": "KcC5nNiExmTM",
        "colab_type": "code",
        "colab": {},
        "outputId": "d4018fa7-52ea-42ac-9e3f-7f3c7fa5db5c"
      },
      "source": [
        "plt.plot(history.history['loss'])\n",
        "plt.plot(history.history['val_loss'])\n",
        "plt.show()"
      ],
      "execution_count": null,
      "outputs": [
        {
          "output_type": "display_data",
          "data": {
            "image/png": "[encoded data removed]",
            "text/plain": [
              "<Figure size 432x288 with 1 Axes>"
            ]
          },
          "metadata": {
            "tags": []
          }
        }
      ]
    },
    {
      "cell_type": "code",
      "metadata": {
        "id": "Q7FuSWojxmTP",
        "colab_type": "code",
        "colab": {},
        "outputId": "1eb0798b-b6d6-49a6-ae96-3d5c53186f93"
      },
      "source": [
        "plt.plot(history.history['acc'])\n",
        "plt.plot(history.history['val_acc'])\n",
        "plt.show()"
      ],
      "execution_count": null,
      "outputs": [
        {
          "output_type": "display_data",
          "data": {
            "image/png": "[encoded data removed]",
            "text/plain": [
              "<Figure size 432x288 with 1 Axes>"
            ]
          },
          "metadata": {
            "tags": []
          }
        }
      ]
    },
    {
      "cell_type": "markdown",
      "metadata": {
        "id": "bp9DTw7ExmTS",
        "colab_type": "text"
      },
      "source": [
        "# Load the test data and evaluate the model"
      ]
    },
    {
      "cell_type": "markdown",
      "metadata": {
        "id": "85MPJDesxmTS",
        "colab_type": "text"
      },
      "source": [
        "Load the best performing model based on the validation loss."
      ]
    },
    {
      "cell_type": "code",
      "metadata": {
        "id": "K6i92388xmTS",
        "colab_type": "code",
        "colab": {}
      },
      "source": [
        "model.load_weights(\"best_model.h5\")"
      ],
      "execution_count": null,
      "outputs": []
    },
    {
      "cell_type": "code",
      "metadata": {
        "id": "x0cPjje2xmTV",
        "colab_type": "code",
        "colab": {},
        "outputId": "b3eba612-406c-4b0f-fd7f-99556dd11ae1"
      },
      "source": [
        "test_folder = \"../input/test/\"\n",
        "test_datagen = ImageDataGenerator(\n",
        "    rescale=1. / 255)\n",
        "\n",
        "test_generator = test_datagen.flow_from_directory(\n",
        "    directory=test_folder,\n",
        "    target_size=(32,32),\n",
        "    batch_size=1,\n",
        "    class_mode='binary',\n",
        "    shuffle=False\n",
        ")"
      ],
      "execution_count": null,
      "outputs": [
        {
          "output_type": "stream",
          "text": [
            "Found 4000 images belonging to 1 classes.\n"
          ],
          "name": "stdout"
        }
      ]
    },
    {
      "cell_type": "code",
      "metadata": {
        "id": "WY8K338BxmTY",
        "colab_type": "code",
        "colab": {},
        "outputId": "34f51342-bddf-4f54-c2d9-391e02d020ad"
      },
      "source": [
        "pred=model.predict_generator(test_generator,verbose=1)\n",
        "pred_binary = [0 if value<0.50 else 1 for value in pred]  "
      ],
      "execution_count": null,
      "outputs": [
        {
          "output_type": "stream",
          "text": [
            "4000/4000 [==============================] - 38s 9ms/step\n"
          ],
          "name": "stdout"
        }
      ]
    },
    {
      "cell_type": "markdown",
      "metadata": {
        "id": "yCfltJFNxmTa",
        "colab_type": "text"
      },
      "source": [
        "Generate the submission .csv file."
      ]
    },
    {
      "cell_type": "code",
      "metadata": {
        "id": "uKuXIFIfxmTa",
        "colab_type": "code",
        "colab": {}
      },
      "source": [
        "csv_file = open(\"sample_submission_cnn.csv\",\"w\")\n",
        "csv_file.write(\"id,has_cactus\\n\")\n",
        "for filename, prediction in zip(test_generator.filenames,pred_binary):\n",
        "    name = filename.split(\"/\")[1].replace(\".tif\",\"\")\n",
        "    csv_file.write(str(name)+\",\"+str(prediction)+\"\\n\")\n",
        "csv_file.close()"
      ],
      "execution_count": null,
      "outputs": []
    }
  ]
}